{
 "cells": [
  {
   "cell_type": "code",
   "execution_count": null,
   "source": [],
   "outputs": [],
   "metadata": {}
  },
  {
   "cell_type": "code",
   "execution_count": 79,
   "source": [
    "import math"
   ],
   "outputs": [],
   "metadata": {}
  },
  {
   "cell_type": "markdown",
   "source": [
    "## Thermal property"
   ],
   "metadata": {}
  },
  {
   "cell_type": "code",
   "execution_count": 80,
   "source": [
    "M_CaO=56 ## kg/kmol\n",
    "M_CaCO3 = 100  # kg/kmol\n",
    "M_CO2 = 44  # kg/kmol\n",
    "\n",
    "cp_CO2_25C=38.0275 # kJ/kmol/K, CaO, 25oC\n",
    "cp_CO2_875C = 55.9135  # kJ/kmol/K, CaO, 875oC\n",
    "\n",
    "cp_CO2_707C = 53.9245  # kJ/kmol/K, CO2, 707oC\n",
    "cp_CO2_av = (cp_CO2_25C+cp_CO2_875C)/2\n",
    "\n",
    "cp_CaO_25C=49.2787\n",
    "cp_CaO_875C=54.31\n",
    "cp_CaO_av = (cp_CaO_25C+cp_CaO_875C)/2\n",
    "\n",
    "\n",
    "\n",
    "cp_CaCO3_25C=81.8245\n",
    "cp_CaCO3_875C = 127.817  # kJ/kmol/K, CaCO3, 875oC\n",
    "cp_CaCO3_av = (cp_CaCO3_25C+cp_CaCO3_875C)/2\n",
    "\n",
    "delta_H_Tref = -178.32e3  # reaction heat at the standard condition: kJ/kmol (CaO)\n",
    "\n",
    "X=0.5 \n",
    "\n",
    "T_ref=273.15+25\n",
    "Td=273.15+875\n",
    "\n",
    "\n"
   ],
   "outputs": [],
   "metadata": {}
  },
  {
   "cell_type": "markdown",
   "source": [
    "## Feed conditions"
   ],
   "metadata": {}
  },
  {
   "cell_type": "code",
   "execution_count": 81,
   "source": [
    "m_CaO=1.38## inlet, kg/s\n",
    "n_CaO = m_CaO/M_CaO  # inlet, kmol/s\n",
    "\n",
    "T_CaO=273.15+822\n",
    "T_CO2 = 273.15+707\n",
    "\n"
   ],
   "outputs": [],
   "metadata": {}
  },
  {
   "cell_type": "markdown",
   "source": [
    "## Reaction heat at the Td"
   ],
   "metadata": {}
  },
  {
   "cell_type": "code",
   "execution_count": 82,
   "source": [
    "delta_H_Td = delta_H_Tref+(cp_CaCO3_av-cp_CaO_av-cp_CO2_av)*(Td-T_ref)  # KJ/kmol\n",
    "print(f\"specific reaction heat released at Td=875oC is {delta_H_Td/1000} KJ/mol\")\n"
   ],
   "outputs": [
    {
     "output_type": "stream",
     "name": "stdout",
     "text": [
      "specific reaction heat released at Td=875oC is -173.172485 KJ/mol\n"
     ]
    }
   ],
   "metadata": {}
  },
  {
   "cell_type": "code",
   "execution_count": 83,
   "source": [
    "Q_heat = X*n_CaO*delta_H_Td #KW\n",
    "\n",
    "print(f\"total reaction heat released at Td=875oC is {Q_heat} kW\")\n"
   ],
   "outputs": [
    {
     "output_type": "stream",
     "name": "stdout",
     "text": [
      "total reaction heat released at Td=875oC is -2133.732404464285 kW\n"
     ]
    }
   ],
   "metadata": {}
  },
  {
   "cell_type": "code",
   "execution_count": 84,
   "source": [
    "## CO2 mass flow"
   ],
   "outputs": [],
   "metadata": {}
  },
  {
   "cell_type": "code",
   "execution_count": 87,
   "source": [
    "m_CO2 = (-Q_heat-n_CaO*cp_CaO_875C*(Td-T_CaO))/(cp_CO2_875C*(Td-T_CO2))*M_CO2  # kg/s\n",
    "print(f\"my result: CO2 should be fed at {m_CO2} kg/s\")\n",
    "print(f\"Aspen: CO2 should be fed at 9.7 kg/s\")\n",
    "print(f\"paper: CO2 should be fed at 9.6 kg/s\")\n"
   ],
   "outputs": [
    {
     "output_type": "stream",
     "name": "stdout",
     "text": [
      "my result: CO2 should be fed at 9.662372328074897 kg/s\n",
      "Aspen: CO2 should be fed at 9.7 kg/s\n",
      "paper: CO2 should be fed at 9.6 kg/s\n"
     ]
    }
   ],
   "metadata": {}
  },
  {
   "cell_type": "code",
   "execution_count": null,
   "source": [],
   "outputs": [],
   "metadata": {}
  }
 ],
 "metadata": {
  "orig_nbformat": 4,
  "language_info": {
   "name": "python",
   "version": "3.8.5",
   "mimetype": "text/x-python",
   "codemirror_mode": {
    "name": "ipython",
    "version": 3
   },
   "pygments_lexer": "ipython3",
   "nbconvert_exporter": "python",
   "file_extension": ".py"
  },
  "kernelspec": {
   "name": "python3",
   "display_name": "Python 3.8.5 64-bit"
  },
  "interpreter": {
   "hash": "31f2aee4e71d21fbe5cf8b01ff0e069b9275f58929596ceb00d14d90e3e16cd6"
  }
 },
 "nbformat": 4,
 "nbformat_minor": 2
}