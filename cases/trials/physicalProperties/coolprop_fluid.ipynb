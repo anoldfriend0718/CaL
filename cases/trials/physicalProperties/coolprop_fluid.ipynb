{
 "cells": [
  {
   "cell_type": "code",
   "execution_count": 1,
   "source": [
    "import CoolProp\n",
    "print(CoolProp.__version__)\n",
    "\n",
    "import CoolProp.CoolProp as CP\n",
    "from CoolProp import AbstractState\n",
    "from CoolProp.CoolProp import PhaseSI, PropsSI, get_global_param_string\n",
    "\n",
    "import numpy as np\n"
   ],
   "outputs": [
    {
     "output_type": "stream",
     "name": "stdout",
     "text": [
      "6.4.1\n"
     ]
    }
   ],
   "metadata": {}
  },
  {
   "cell_type": "code",
   "execution_count": 2,
   "source": [
    "fluid=\"water\"\n",
    "pressure_at_critical_pres=CP.PropsSI(fluid,\"pcrit\")\n",
    "print(f\"critical pressure: {pressure_at_critical_pres/1e6} MPa\")\n",
    "\n",
    "VL=1/CP.PropsSI(\"D\",\"P\",1e5,\"Q\",0,fluid)\n",
    "VG = 1/CP.PropsSI(\"D\", \"P\", 1e5, \"Q\", 1, fluid)\n",
    "print(f\"massic volume of liquid: {VL} m^3/kg,massic volume of gas: {VG} m^3/kg\")\n",
    "\n"
   ],
   "outputs": [
    {
     "output_type": "stream",
     "name": "stdout",
     "text": [
      "critical pressure: 22.064 MPa\n",
      "massic volume of liquid: 0.0010431536977168567 m^3/kg,massic volume of gas: 1.6939276653849265 m^3/kg\n"
     ]
    }
   ],
   "metadata": {}
  },
  {
   "cell_type": "code",
   "execution_count": 3,
   "source": [
    "CP.get_global_param_string('predefined_mixtures').split(',')[0:6]\n"
   ],
   "outputs": [
    {
     "output_type": "execute_result",
     "data": {
      "text/plain": [
       "['AIR.MIX',\n",
       " 'AMARILLO.MIX',\n",
       " 'Air.mix',\n",
       " 'Amarillo.mix',\n",
       " 'EKOFISK.MIX',\n",
       " 'Ekofisk.mix']"
      ]
     },
     "metadata": {},
     "execution_count": 3
    }
   ],
   "metadata": {}
  },
  {
   "cell_type": "code",
   "execution_count": 4,
   "source": [
    "CP.PropsSI('D', 'T', 350, 'P', 101325, 'REFPROP::R32[0.697615]&R125[0.302385]')\n"
   ],
   "outputs": [
    {
     "output_type": "execute_result",
     "data": {
      "text/plain": [
       "2.545873511940853"
      ]
     },
     "metadata": {},
     "execution_count": 4
    }
   ],
   "metadata": {}
  },
  {
   "cell_type": "code",
   "execution_count": 5,
   "source": [
    "CP.PropsSI(\"Tcrit\", \"REFPROP::CO2\")\n"
   ],
   "outputs": [
    {
     "output_type": "execute_result",
     "data": {
      "text/plain": [
       "304.1282"
      ]
     },
     "metadata": {},
     "execution_count": 5
    }
   ],
   "metadata": {}
  },
  {
   "cell_type": "code",
   "execution_count": 6,
   "source": [
    "# CP.PropsSI(\"D\", \"T\", 350, \"P\",100000, \"HEOS::co2[0.20]&nitrogen[0.80]\")\n"
   ],
   "outputs": [],
   "metadata": {}
  },
  {
   "cell_type": "code",
   "execution_count": 7,
   "source": [
    "\n",
    "\n",
    "AS = AbstractState(\"REFPROP\", \"co2&nitrogen\")\n",
    "z = [0.2, 0.8]\n",
    "AS.set_mole_fractions(z)\n",
    "AS.update(CoolProp.PT_INPUTS, 101325, 350)\n",
    "AS.rhomass()\n"
   ],
   "outputs": [
    {
     "output_type": "execute_result",
     "data": {
      "text/plain": [
       "1.087134832921583"
      ]
     },
     "metadata": {},
     "execution_count": 7
    }
   ],
   "metadata": {}
  },
  {
   "cell_type": "code",
   "execution_count": 8,
   "source": [
    "CP.get_global_param_string(\"REFPROP_version\")\n"
   ],
   "outputs": [
    {
     "output_type": "execute_result",
     "data": {
      "text/plain": [
       "'9.1'"
      ]
     },
     "metadata": {},
     "execution_count": 8
    }
   ],
   "metadata": {}
  },
  {
   "cell_type": "code",
   "execution_count": 9,
   "source": [
    "CP.PropsSI(\"T\", \"P\", 101325, \"Q\", 0, \"REFPROP::Water\")\n"
   ],
   "outputs": [
    {
     "output_type": "execute_result",
     "data": {
      "text/plain": [
       "373.1242958476986"
      ]
     },
     "metadata": {},
     "execution_count": 9
    }
   ],
   "metadata": {}
  },
  {
   "cell_type": "code",
   "execution_count": 10,
   "source": [
    "\n",
    "bar = 1.e5  # Pa\n",
    "temperature = 273.15+93  # K\n",
    "\n",
    "AS = CoolProp.AbstractState(\"REFPROP\", \"Methane&water&co2\")\n",
    "AS.set_mole_fractions([0.8, .1, .1])\n",
    "AS.update(CoolProp.PT_INPUTS, 12*bar, temperature)\n",
    "print(AS.fugacity(0))\n",
    "\n"
   ],
   "outputs": [
    {
     "output_type": "stream",
     "name": "stdout",
     "text": [
      "984429.9220637738\n"
     ]
    }
   ],
   "metadata": {}
  },
  {
   "cell_type": "code",
   "execution_count": 11,
   "source": [
    "\n",
    "# 空气\n",
    "refprop = 'REFPROP::co2[0.8]&nitrogen[0.2]'\n",
    "\n",
    "pressure = 101325  # 压力 Pa\n",
    "temperature = 373.15  # 温度 K\n",
    "\n",
    "\n",
    "# 根据压力和温度计算比焓\n",
    "H = PropsSI('H', \"P\", pressure, \"T\", temperature, refprop)\n",
    "H\n"
   ],
   "outputs": [
    {
     "output_type": "execute_result",
     "data": {
      "text/plain": [
       "546915.7067848307"
      ]
     },
     "metadata": {},
     "execution_count": 11
    }
   ],
   "metadata": {}
  },
  {
   "cell_type": "code",
   "execution_count": 26,
   "source": [
    "def arange(start, stop, step=1, endpoint=True):\n",
    "    arr = np.arange(start, stop, step)\n",
    "\n",
    "    if endpoint and arr[-1] != stop:\n",
    "        arr = np.concatenate([arr, [stop]])\n",
    "\n",
    "    return arr\n",
    "\n",
    "\n",
    "temps=arange(35.1+273.15, 704+273.15, 15)\n",
    "pres=3.5e5\n",
    "fluid = 'REFPROP::co2[0.2]&nitrogen[0.8]'\n",
    "cps=[]\n",
    "for temp in temps:\n",
    "    cp = CP.PropsSI('C', 'T', temp, 'P', pres, fluid)\n",
    "    cps.append(cp)\n",
    "mean_cp=np.mean(cps)\n",
    "mean_cp\n"
   ],
   "outputs": [
    {
     "output_type": "execute_result",
     "data": {
      "text/plain": [
       "1089.759113829436"
      ]
     },
     "metadata": {},
     "execution_count": 26
    }
   ],
   "metadata": {}
  },
  {
   "cell_type": "code",
   "execution_count": 14,
   "source": [
    "temps = arange(35.1+273.15, 704+273.15, 15)\n",
    "pres = 1.01325e5\n",
    "fluid = 'REFPROP::co2'\n",
    "cps = []\n",
    "for temp in temps:\n",
    "    cp = CP.PropsSI('C', 'T', temp, 'P', pres, fluid)\n",
    "    cps.append(cp)\n",
    "    mean_cp = np.mean(cps)\n",
    "mean_cp\n"
   ],
   "outputs": [
    {
     "output_type": "execute_result",
     "data": {
      "text/plain": [
       "1081.5591900177596"
      ]
     },
     "metadata": {},
     "execution_count": 14
    }
   ],
   "metadata": {}
  },
  {
   "cell_type": "code",
   "execution_count": 15,
   "source": [
    "temps = arange(145+273.15, 707+273.15, 15)\n",
    "pres = 3.43e5\n",
    "fluid = 'REFPROP::co2'\n",
    "cps = []\n",
    "for temp in temps:\n",
    "    cp = CP.PropsSI('C', 'T', temp, 'P', pres, fluid)\n",
    "    cps.append(cp)\n",
    "    mean_cp = np.mean(cps)\n",
    "mean_cp\n"
   ],
   "outputs": [
    {
     "output_type": "execute_result",
     "data": {
      "text/plain": [
       "1118.023234237798"
      ]
     },
     "metadata": {},
     "execution_count": 15
    }
   ],
   "metadata": {}
  },
  {
   "cell_type": "code",
   "execution_count": 28,
   "source": [
    "temps = arange(20+273.15, 339+273.15, 1)\n",
    "pres = 75e5\n",
    "fluid = 'REFPROP::co2'\n",
    "cps = []\n",
    "for temp in temps:\n",
    "    cp = CP.PropsSI('C', 'T', temp, 'P', pres, fluid)\n",
    "    cps.append(cp)\n",
    "    mean_cp = np.mean(cps)\n",
    "mean_cp\n"
   ],
   "outputs": [
    {
     "output_type": "execute_result",
     "data": {
      "text/plain": [
       "1641.5699542918446"
      ]
     },
     "metadata": {},
     "execution_count": 28
    }
   ],
   "metadata": {}
  }
 ],
 "metadata": {
  "orig_nbformat": 4,
  "language_info": {
   "name": "python",
   "version": "3.8.5",
   "mimetype": "text/x-python",
   "codemirror_mode": {
    "name": "ipython",
    "version": 3
   },
   "pygments_lexer": "ipython3",
   "nbconvert_exporter": "python",
   "file_extension": ".py"
  },
  "kernelspec": {
   "name": "python3",
   "display_name": "Python 3.8.5 64-bit ('.venv')"
  },
  "interpreter": {
   "hash": "83a1c713f43b468b4af359c25f1acba2bda9c186b92e3b5230d8ac3ff52052d6"
  }
 },
 "nbformat": 4,
 "nbformat_minor": 2
}