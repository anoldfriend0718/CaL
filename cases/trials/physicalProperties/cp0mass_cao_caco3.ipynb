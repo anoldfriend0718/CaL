{
 "cells": [
  {
   "cell_type": "code",
   "execution_count": 7,
   "source": [
    "import pandas as pd \n",
    "import numpy as np\n",
    "from scipy import interpolate\n"
   ],
   "outputs": [],
   "metadata": {}
  },
  {
   "cell_type": "code",
   "execution_count": 8,
   "source": [
    "df_Ca=pd.read_csv(\"./cpmass_cao_caco3.csv\")\n",
    "df_Ca[\"TEMP\"] = df_Ca[\"TEMP\"]+273.15\n",
    "df_Ca.head()\n"
   ],
   "outputs": [
    {
     "output_type": "execute_result",
     "data": {
      "text/plain": [
       "     TEMP  PRES      CAO    CACO3\n",
       "0  273.15     1  876.033  787.939\n",
       "1  283.15     1  877.125  799.776\n",
       "2  293.15     1  878.216  811.614\n",
       "3  303.15     1  879.308  823.437\n",
       "4  313.15     1  880.399  835.050"
      ],
      "text/html": [
       "<div>\n",
       "<style scoped>\n",
       "    .dataframe tbody tr th:only-of-type {\n",
       "        vertical-align: middle;\n",
       "    }\n",
       "\n",
       "    .dataframe tbody tr th {\n",
       "        vertical-align: top;\n",
       "    }\n",
       "\n",
       "    .dataframe thead th {\n",
       "        text-align: right;\n",
       "    }\n",
       "</style>\n",
       "<table border=\"1\" class=\"dataframe\">\n",
       "  <thead>\n",
       "    <tr style=\"text-align: right;\">\n",
       "      <th></th>\n",
       "      <th>TEMP</th>\n",
       "      <th>PRES</th>\n",
       "      <th>CAO</th>\n",
       "      <th>CACO3</th>\n",
       "    </tr>\n",
       "  </thead>\n",
       "  <tbody>\n",
       "    <tr>\n",
       "      <th>0</th>\n",
       "      <td>273.15</td>\n",
       "      <td>1</td>\n",
       "      <td>876.033</td>\n",
       "      <td>787.939</td>\n",
       "    </tr>\n",
       "    <tr>\n",
       "      <th>1</th>\n",
       "      <td>283.15</td>\n",
       "      <td>1</td>\n",
       "      <td>877.125</td>\n",
       "      <td>799.776</td>\n",
       "    </tr>\n",
       "    <tr>\n",
       "      <th>2</th>\n",
       "      <td>293.15</td>\n",
       "      <td>1</td>\n",
       "      <td>878.216</td>\n",
       "      <td>811.614</td>\n",
       "    </tr>\n",
       "    <tr>\n",
       "      <th>3</th>\n",
       "      <td>303.15</td>\n",
       "      <td>1</td>\n",
       "      <td>879.308</td>\n",
       "      <td>823.437</td>\n",
       "    </tr>\n",
       "    <tr>\n",
       "      <th>4</th>\n",
       "      <td>313.15</td>\n",
       "      <td>1</td>\n",
       "      <td>880.399</td>\n",
       "      <td>835.050</td>\n",
       "    </tr>\n",
       "  </tbody>\n",
       "</table>\n",
       "</div>"
      ]
     },
     "metadata": {},
     "execution_count": 8
    }
   ],
   "metadata": {}
  },
  {
   "cell_type": "code",
   "execution_count": 9,
   "source": [
    "f_cao = interpolate.interp1d(df_Ca[\"TEMP\"], df_Ca[\"CAO\"])\n",
    "f_caco3 = interpolate.interp1d(df_Ca[\"TEMP\"], df_Ca[\"CACO3\"])\n"
   ],
   "outputs": [],
   "metadata": {}
  },
  {
   "cell_type": "code",
   "execution_count": 23,
   "source": [
    "cp_cao=float(f_cao(1073.15))\n",
    "cp_cao\n"
   ],
   "outputs": [
    {
     "output_type": "execute_result",
     "data": {
      "text/plain": [
       "961.072"
      ]
     },
     "metadata": {},
     "execution_count": 23
    }
   ],
   "metadata": {}
  },
  {
   "cell_type": "code",
   "execution_count": 24,
   "source": [
    "cp_caco3 = float(f_caco3(1073.15))\n",
    "cp_caco3\n"
   ],
   "outputs": [
    {
     "output_type": "execute_result",
     "data": {
      "text/plain": [
       "1246.17"
      ]
     },
     "metadata": {},
     "execution_count": 24
    }
   ],
   "metadata": {}
  },
  {
   "cell_type": "code",
   "execution_count": 30,
   "source": [
    "def arange(start, stop, step=1, endpoint=True):\n",
    "    arr = np.arange(start, stop, step)\n",
    "\n",
    "    if endpoint and arr[-1] != stop:\n",
    "        arr = np.concatenate([arr, [stop]])\n",
    "\n",
    "    return arr\n",
    "\n",
    "\n",
    "temps = arange(20+273.15, 875+273.15, 10)\n",
    "\n",
    "cps_cao = []\n",
    "for temp in temps:\n",
    "    cp = float(f_cao(temp))\n",
    "    cps_cao.append(cp)\n",
    "    mean_cp_cao = np.mean(cps_cao)\n",
    "mean_cp_cao\n"
   ],
   "outputs": [
    {
     "output_type": "execute_result",
     "data": {
      "text/plain": [
       "924.4619655172414"
      ]
     },
     "metadata": {},
     "execution_count": 30
    }
   ],
   "metadata": {}
  },
  {
   "cell_type": "code",
   "execution_count": 29,
   "source": [
    "\n",
    "cps_caco3 = []\n",
    "for temp in temps:\n",
    "    cp = float(f_caco3(temp))\n",
    "    cps_caco3.append(cp)\n",
    "    mean_cp_caco3 = np.mean(cps_caco3)\n",
    "mean_cp_caco3\n"
   ],
   "outputs": [
    {
     "output_type": "execute_result",
     "data": {
      "text/plain": [
       "1088.3565"
      ]
     },
     "metadata": {},
     "execution_count": 29
    }
   ],
   "metadata": {}
  },
  {
   "cell_type": "code",
   "execution_count": null,
   "source": [
    "\n",
    "temps = arange(20+273.15, 822+273.15, 10)\n",
    "\n",
    "cps_cao = []\n",
    "for temp in temps:\n",
    "    cp = float(f_cao(temp))\n",
    "    cps_cao.append(cp)\n",
    "    mean_cp_cao = np.mean(cps_cao)\n",
    "mean_cp_cao\n"
   ],
   "outputs": [],
   "metadata": {}
  }
 ],
 "metadata": {
  "orig_nbformat": 4,
  "language_info": {
   "name": "python",
   "version": "3.8.5",
   "mimetype": "text/x-python",
   "codemirror_mode": {
    "name": "ipython",
    "version": 3
   },
   "pygments_lexer": "ipython3",
   "nbconvert_exporter": "python",
   "file_extension": ".py"
  },
  "kernelspec": {
   "name": "python3",
   "display_name": "Python 3.8.5 64-bit ('.venv')"
  },
  "interpreter": {
   "hash": "83a1c713f43b468b4af359c25f1acba2bda9c186b92e3b5230d8ac3ff52052d6"
  }
 },
 "nbformat": 4,
 "nbformat_minor": 2
}