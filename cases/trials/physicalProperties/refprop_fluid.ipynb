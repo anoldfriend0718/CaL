{
 "cells": [
  {
   "cell_type": "code",
   "execution_count": 1,
   "source": [
    "import os\n",
    "os.environ['RPPREFIX'] = r'/opt/refprop/'\n"
   ],
   "outputs": [],
   "metadata": {}
  },
  {
   "cell_type": "code",
   "execution_count": 2,
   "source": [
    "# Import the main class from the Python library\n",
    "from ctREFPROP.ctREFPROP import REFPROPFunctionLibrary\n"
   ],
   "outputs": [],
   "metadata": {}
  },
  {
   "cell_type": "code",
   "execution_count": 11,
   "source": [
    "# Now we instantiate the library, and use the environment variable to\n",
    "# explicitly state which path we want to use. It was decided to make\n",
    "# the path handling explicit (though more verbose), because explicit\n",
    "# is almost always better than implicit\n",
    "RP = REFPROPFunctionLibrary(os.environ['RPPREFIX'])\n",
    "\n",
    "# Now we tell REFPROP what the root directory is that it should use.  This root directory should contain, at least:\n",
    "# A) REFPRP64.DLL (or REFPROP.dll for 32-bit windows, or librefprop.so or librefprop.dylib, for linux or OSX respectively)\n",
    "# B) FLUIDS folder (case sensitive)\n",
    "# C) MIXTURES folder (case sensitive)\n",
    "RP.SETPATHdll(os.environ['RPPREFIX'])\n",
    "\n"
   ],
   "outputs": [
    {
     "output_type": "error",
     "ename": "ValueError",
     "evalue": "The function GETENUMdll could not be loaded from the shared library.",
     "traceback": [
      "\u001b[0;31m---------------------------------------------------------------------------\u001b[0m",
      "\u001b[0;31mValueError\u001b[0m                                Traceback (most recent call last)",
      "Input \u001b[0;32mIn [11]\u001b[0m, in \u001b[0;36m<cell line: 14>\u001b[0;34m()\u001b[0m\n\u001b[1;32m     11\u001b[0m RP\u001b[38;5;241m.\u001b[39mSETPATHdll(os\u001b[38;5;241m.\u001b[39menviron[\u001b[38;5;124m'\u001b[39m\u001b[38;5;124mRPPREFIX\u001b[39m\u001b[38;5;124m'\u001b[39m])\n\u001b[1;32m     13\u001b[0m \u001b[38;5;66;03m# Get the unit system we want to use (we will revisit this GETENUM function later)\u001b[39;00m\n\u001b[0;32m---> 14\u001b[0m MOLAR_BASE_SI \u001b[38;5;241m=\u001b[39m \u001b[43mRP\u001b[49m\u001b[38;5;241;43m.\u001b[39;49m\u001b[43mGETENUMdll\u001b[49m\u001b[43m(\u001b[49m\u001b[38;5;241;43m0\u001b[39;49m\u001b[43m,\u001b[49m\u001b[43m \u001b[49m\u001b[38;5;124;43m\"\u001b[39;49m\u001b[38;5;124;43mMOLAR BASE SI\u001b[39;49m\u001b[38;5;124;43m\"\u001b[39;49m\u001b[43m)\u001b[49m\u001b[38;5;241m.\u001b[39miEnum\n",
      "File \u001b[0;32m~/Workspace/MyRepo/thermodynamics/CaL/.venv/lib/python3.8/site-packages/ctREFPROP/ctREFPROP.py:1577\u001b[0m, in \u001b[0;36mREFPROPInstance.GETENUMdll\u001b[0;34m(self, iFlag, hEnum)\u001b[0m\n\u001b[1;32m   1574\u001b[0m ierr \u001b[38;5;241m=\u001b[39m ct\u001b[38;5;241m.\u001b[39mc_int()\n\u001b[1;32m   1575\u001b[0m herr \u001b[38;5;241m=\u001b[39m ct\u001b[38;5;241m.\u001b[39mcreate_string_buffer(\u001b[38;5;241m255\u001b[39m)\n\u001b[0;32m-> 1577\u001b[0m \u001b[38;5;28;01mif\u001b[39;00m \u001b[38;5;28mself\u001b[39m\u001b[38;5;241m.\u001b[39m_GETENUMdll \u001b[38;5;129;01mis\u001b[39;00m \u001b[38;5;28;01mNone\u001b[39;00m: \u001b[38;5;28;01mraise\u001b[39;00m \u001b[38;5;167;01mValueError\u001b[39;00m(\u001b[38;5;124m\"\u001b[39m\u001b[38;5;124mThe function GETENUMdll could not be loaded from the shared library.\u001b[39m\u001b[38;5;124m\"\u001b[39m) \n\u001b[1;32m   1578\u001b[0m \u001b[38;5;28mself\u001b[39m\u001b[38;5;241m.\u001b[39m_GETENUMdll(ct\u001b[38;5;241m.\u001b[39mbyref(iFlag),hEnum,ct\u001b[38;5;241m.\u001b[39mbyref(iEnum),ct\u001b[38;5;241m.\u001b[39mbyref(ierr),herr,\u001b[38;5;241m255\u001b[39m,\u001b[38;5;241m255\u001b[39m)\n\u001b[1;32m   1580\u001b[0m \u001b[38;5;28;01mreturn\u001b[39;00m \u001b[38;5;28mself\u001b[39m\u001b[38;5;241m.\u001b[39m_GETENUMdlloutput_tuple(iEnum\u001b[38;5;241m.\u001b[39mvalue,ierr\u001b[38;5;241m.\u001b[39mvalue,trim(herr\u001b[38;5;241m.\u001b[39mraw))\n",
      "\u001b[0;31mValueError\u001b[0m: The function GETENUMdll could not be loaded from the shared library."
     ]
    }
   ],
   "metadata": {}
  },
  {
   "cell_type": "code",
   "execution_count": 6,
   "source": [
    "# The version of REFPROP (if this gives ***** with REFPROP 10.0.0, please see us to get a patch)\n",
    "RP.RPVersion()\n"
   ],
   "outputs": [
    {
     "output_type": "execute_result",
     "data": {
      "text/plain": [
       "'9.1'"
      ]
     },
     "metadata": {},
     "execution_count": 6
    }
   ],
   "metadata": {}
  },
  {
   "cell_type": "code",
   "execution_count": 15,
   "source": [
    "r = RP.SETUPdll(1, \"PROPANE.FLD\", \"HMX.BNC\", \"DEF\")\n",
    "assert(r.ierr == 0)\n",
    "print(RP.PQFLSHdll(101.325, 0, [1.0], 0))\n"
   ],
   "outputs": [
    {
     "output_type": "stream",
     "name": "stdout",
     "text": [
      "PQFLSHdlloutput(T=231.0362146443177, D=13.1732573882581, Dl=13.1732573882581, Dv=0.054793106634812835, x=array('d', [1.0, 0.0, 0.0, 0.0, 0.0, 0.0, 0.0, 0.0, 0.0, 0.0, 0.0, 0.0, 0.0, 0.0, 0.0, 0.0, 0.0, 0.0, 0.0, 0.0]), y=array('d', [1.0, 0.0, 0.0, 0.0, 0.0, 0.0, 0.0, 0.0, 0.0, 0.0, 0.0, 0.0, 0.0, 0.0, 0.0, 0.0, 0.0, 0.0, 0.0, 0.0]), e=4417.581658874587, h=4425.2733783190315, s=26.768021829710854, Cv=63.77420408272301, Cp=99.04064396443658, w=1160.8493647029006, ierr=0, herr='')\n"
     ]
    }
   ],
   "metadata": {}
  }
 ],
 "metadata": {
  "orig_nbformat": 4,
  "language_info": {
   "name": "python",
   "version": "3.8.5",
   "mimetype": "text/x-python",
   "codemirror_mode": {
    "name": "ipython",
    "version": 3
   },
   "pygments_lexer": "ipython3",
   "nbconvert_exporter": "python",
   "file_extension": ".py"
  },
  "kernelspec": {
   "name": "python3",
   "display_name": "Python 3.8.5 64-bit ('.venv')"
  },
  "interpreter": {
   "hash": "83a1c713f43b468b4af359c25f1acba2bda9c186b92e3b5230d8ac3ff52052d6"
  }
 },
 "nbformat": 4,
 "nbformat_minor": 2
}