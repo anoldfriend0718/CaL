{
 "cells": [
  {
   "cell_type": "code",
   "execution_count": 10,
   "source": [
    "import os\n",
    "import sys\n",
    "# CaLRepo = os.environ.get(\"CaLRepo\")\n",
    "CaLRepo ='/home/anoldfriend/Workspace/MyRepo/thermodynamics/CaL'\n",
    "# print(CaLRepo)\n",
    "sys.path.append(f\"{CaLRepo}/utilities/\")\n",
    "\n",
    "import CoolProp.CoolProp as CP\n",
    "import numpy as np\n",
    "import pandas as pd\n",
    "from pyPinch import PyPinch\n",
    "from scipy import interpolate\n",
    "from pyCaLPlant import Cp0mass_Wrapper,Pinch_point_analyzer,Plant"
   ],
   "outputs": [],
   "metadata": {}
  },
  {
   "cell_type": "code",
   "execution_count": 11,
   "source": [
    "flue_gas_composistion=dict()\n",
    "flue_gas_composistion[\"co2\"]=0.1338\n",
    "flue_gas_composistion[\"o2\"]=0.0384\n",
    "flue_gas_composistion[\"n2\"]=0.6975\n",
    "deconbonized_rate=0.9\n",
    "wrapper=Cp0mass_Wrapper(flue_gas_composistion,deconbonized_rate)\n",
    "print(wrapper._co2_mole_frac_s,wrapper._co2_mole_frac_e)\n",
    "print(wrapper._o2_mole_frac_s,wrapper._o2_mole_frac_e)\n",
    "print(wrapper._n2_mole_frac_s,wrapper._n2_mole_frac_e)"
   ],
   "outputs": [
    {
     "output_type": "stream",
     "name": "stdout",
     "text": [
      "0.15384615384615385 0.017857142857142853\n",
      "0.04415315626077957 0.051249199231262005\n",
      "0.8020006898930666 0.9308936579115951\n"
     ]
    }
   ],
   "metadata": {}
  },
  {
   "cell_type": "code",
   "execution_count": 12,
   "source": [
    "wrapper.cp0mass(\"flue_gas\",313)"
   ],
   "outputs": [
    {
     "output_type": "execute_result",
     "data": {
      "text/plain": [
       "1067.9735349060388"
      ]
     },
     "metadata": {},
     "execution_count": 12
    }
   ],
   "metadata": {}
  },
  {
   "cell_type": "code",
   "execution_count": 13,
   "source": [
    "wrapper.cp0mass(\"decarbonized_flue_gas\",313)"
   ],
   "outputs": [
    {
     "output_type": "execute_result",
     "data": {
      "text/plain": [
       "1067.8943348603805"
      ]
     },
     "metadata": {},
     "execution_count": 13
    }
   ],
   "metadata": {}
  },
  {
   "cell_type": "code",
   "execution_count": 14,
   "source": [
    "wrapper.cp0mass_mean(\"decarbonized_flue_gas\",313,1013)"
   ],
   "outputs": [
    {
     "output_type": "execute_result",
     "data": {
      "text/plain": [
       "1147.3114116422282"
      ]
     },
     "metadata": {},
     "execution_count": 14
    }
   ],
   "metadata": {}
  },
  {
   "cell_type": "code",
   "execution_count": 15,
   "source": [
    "wrapper.cp0mass_mean(\"flue_gas\",313,1013)"
   ],
   "outputs": [
    {
     "output_type": "execute_result",
     "data": {
      "text/plain": [
       "1158.6765768180835"
      ]
     },
     "metadata": {},
     "execution_count": 15
    }
   ],
   "metadata": {}
  },
  {
   "cell_type": "code",
   "execution_count": 16,
   "source": [
    "input={}\n",
    "input[\"m_caco3_out\"]= 1\n",
    "input[\"m_cao_unr_out\"]= 1\n",
    "input[\"m_cao_in\"]= 2\n",
    "input[\"m_deconbonized_flue_gas_out\"]= 1\n",
    "input[\"m_flue_gas_in\"]= 1\n",
    "input[\"m_water_in\"]= 1\n",
    "\n",
    "input[\"T_carb\"]= 650\n",
    "input[\"T_amb\"]= 20\n",
    "input[\"T_flue_gas_in\"]= 40\n",
    "input[\"T_flue_gas_reactor_in\"]= 500\n",
    "input[\"T_cao_reactor_in\"]= 500\n",
    "input[\"T_water_reactor_in\"]= 50\n",
    "input[\"T_decarbonized_flue_gas_out\"]= 40\n",
    "input[\"T_delta_pinch\"]= 15\n",
    "\n",
    "input[\"p_carb\"]= 101325\n",
    "\n",
    "input[\"flue_gas_composition\"]=flue_gas_composistion\n",
    "input[\"deconbonized_rate\"]=0.9\n",
    "\n",
    "pw=Pinch_point_analyzer(input)\n",
    "pw.write_pyPinch_data_csv(\"./tmp.csv\")\n",
    "text=pw.write_pyPinch_data_text()\n",
    "pw.solve(text)\n"
   ],
   "outputs": [
    {
     "output_type": "execute_result",
     "data": {
      "text/plain": [
       "(0.0, 406903.76999999996)"
      ]
     },
     "metadata": {},
     "execution_count": 16
    }
   ],
   "metadata": {}
  },
  {
   "cell_type": "code",
   "execution_count": 17,
   "source": [
    "parameters={}\n",
    "parameters[\"flue_gas_composition\"]=flue_gas_composistion\n",
    "parameters[\"decarbonized_rate\"]=0.9\n",
    "parameters[\"vol_rate_flue_gas\"]=6000/3600\n",
    "parameters[\"T_flue_gas\"]=40\n",
    "parameters[\"T_water_reactor_out\"]=80\n",
    "parameters[\"T_carb\"]=650\n",
    "parameters[\"p_carb\"]=101325\n",
    "parameters[\"cao_conversion\"]=0.5\n",
    "\n",
    "parameters[\"carbonator_eff\"]=0.99\n",
    "parameters[\"convey_consumption\"]=10e3/100\n",
    "parameters[\"storage_carbonator_distance\"]=100\n",
    "parameters[\"cooling_eff \"]= 0.8e-2\n",
    "parameters[\"delta_T_pinch\"]= 15\n",
    "parameters[\"T_amb\"]=20\n",
    "\n",
    "plant=Plant(parameters)\n",
    "\n",
    "Ti_flue_gas=500\n",
    "Ti_cao=500\n",
    "Ti_water=50\n",
    "To_water=80\n",
    "Tcarb=650\n",
    "pcarb=101325\n",
    "X=0.5\n",
    "plant.carbonator(Ti_flue_gas, Ti_cao, Ti_water,To_water,Tcarb, pcarb, X)"
   ],
   "outputs": [
    {
     "output_type": "execute_result",
     "data": {
      "text/plain": [
       "{'deconbonized_flue_gas_composition': {'co2': 0.017857142857142853,\n",
       "  'n2': 0.9308936579115951,\n",
       "  'o2': 0.051249199231262005},\n",
       " 'm_flue_gas_in': 1.9890714221113102,\n",
       " 'm_water_in': 7.020063162516975,\n",
       " 'm_co2_capture': 0.345214831295379,\n",
       " 'm_cao_in': 0.8787286614791466,\n",
       " 'm_deconbonized_flue_gas_out': 1.6438565908159313,\n",
       " 'm_cao_unr_out': 0.4393643307395733,\n",
       " 'm_caco3_out': 0.7845791620349524}"
      ]
     },
     "metadata": {},
     "execution_count": 17
    }
   ],
   "metadata": {}
  },
  {
   "cell_type": "code",
   "execution_count": 21,
   "source": [
    "input={}\n",
    "input[\"T_flue_gas_reactor_in\"]=440\n",
    "input[\"T_cao_reactor_in\"]=410\n",
    "input[\"T_water_reactor_in\"]=50\n",
    "plant.solve(input)"
   ],
   "outputs": [
    {
     "output_type": "execute_result",
     "data": {
      "text/plain": [
       "{'T_flue_gas_reactor_in': 440,\n",
       " 'T_cao_reactor_in': 410,\n",
       " 'T_water_reactor_in': 50,\n",
       " 'T_water_reactor_out': 80,\n",
       " 'T_carb': 650,\n",
       " 'p_carb': 101325,\n",
       " 'cao_conversion': 0.5,\n",
       " 'T_amb': 20,\n",
       " 'T_delta_pinch': 15,\n",
       " 'flue_gas_composition': {'co2': 0.1338, 'o2': 0.0384, 'n2': 0.6975},\n",
       " 'deconbonized_rate': 0.9,\n",
       " 'T_flue_gas_in': 40,\n",
       " 'T_decarbonized_flue_gas_out': 40,\n",
       " 'deconbonized_flue_gas_composition': {'co2': 0.017857142857142853,\n",
       "  'n2': 0.9308936579115951,\n",
       "  'o2': 0.051249199231262005},\n",
       " 'm_flue_gas_in': 1.9890714221113102,\n",
       " 'm_water_in': 5.349062136400264,\n",
       " 'm_co2_capture': 0.345214831295379,\n",
       " 'm_cao_in': 0.8787286614791466,\n",
       " 'm_deconbonized_flue_gas_out': 1.6438565908159313,\n",
       " 'm_cao_unr_out': 0.4393643307395733,\n",
       " 'm_caco3_out': 0.7845791620349524,\n",
       " 'Q_hot_water': 1342871.1518895589,\n",
       " 'conveying_power': -21026.72154253672,\n",
       " 'hot_utility': 0.0,\n",
       " 'cold_utility': 34559.629999999976,\n",
       " 'cooling_power': -276.4770399999998,\n",
       " 'total_auxiliary_power': -21303.198582536723,\n",
       " 'plant_eff': 0.9615539778376266}"
      ]
     },
     "metadata": {},
     "execution_count": 21
    }
   ],
   "metadata": {}
  }
 ],
 "metadata": {
  "orig_nbformat": 4,
  "language_info": {
   "name": "python",
   "version": "3.8.5",
   "mimetype": "text/x-python",
   "codemirror_mode": {
    "name": "ipython",
    "version": 3
   },
   "pygments_lexer": "ipython3",
   "nbconvert_exporter": "python",
   "file_extension": ".py"
  },
  "kernelspec": {
   "name": "python3",
   "display_name": "Python 3.8.5 64-bit ('.venv')"
  },
  "interpreter": {
   "hash": "83a1c713f43b468b4af359c25f1acba2bda9c186b92e3b5230d8ac3ff52052d6"
  }
 },
 "nbformat": 4,
 "nbformat_minor": 2
}