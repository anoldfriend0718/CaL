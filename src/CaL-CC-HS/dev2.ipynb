{
 "cells": [
  {
   "cell_type": "code",
   "execution_count": 3,
   "source": [
    "import os\n",
    "import sys\n",
    "# CaLRepo = os.environ.get(\"CaLRepo\")\n",
    "CaLRepo ='/home/anoldfriend/Workspace/MyRepo/thermodynamics/CaL'\n",
    "# print(CaLRepo)\n",
    "sys.path.append(f\"{CaLRepo}/utilities/\")\n",
    "\n",
    "import numpy as np\n",
    "import pandas as pd\n",
    "import proplot as pplot\n",
    "from pyCaLPlant import CalcinerSide"
   ],
   "outputs": [],
   "metadata": {}
  },
  {
   "cell_type": "code",
   "execution_count": 4,
   "source": [
    "parameters = dict()\n",
    "flue_gas_composistion = dict()\n",
    "flue_gas_composistion[\"co2\"] = 0.1338\n",
    "flue_gas_composistion[\"o2\"] = 0.0384\n",
    "flue_gas_composistion[\"n2\"] = 0.6975\n",
    "parameters[\"flue_gas_composition\"] = flue_gas_composistion\n",
    "parameters[\"isentropic_eff_mc\"] = 0.87\n",
    "parameters[\"mechanical_eff\"] = 0.97\n",
    "parameters[\"decarbonized_rate\"] = 0.9\n",
    "parameters[\"cao_conversion\"] = 0.5\n",
    "parameters[\"calciner_eff\"] = 0.99\n",
    "parameters[\"convey_consumption\"] = 10e3/100\n",
    "parameters[\"storage_carbonator_distance\"] = 100\n",
    "parameters[\"T_amb\"] = 20\n",
    "parameters[\"p_amb\"] = 101325\n",
    "parameters[\"T_calc\"]=900\n",
    "parameters[\"deltaTmin_SSHX\"]=20\n",
    "parameters[\"deltaTmin_SGHX\"]=15\n",
    "parameters[\"T_cooling_co2\"]=20\n",
    "parameters[\"p_co2_storage\"]=75e5\n",
    "parameters[\"n_compression\"]=6\n",
    "parameters[\"cooling_eff\"]=0.01\n",
    "calcs = CalcinerSide(parameters)\n"
   ],
   "outputs": [],
   "metadata": {}
  },
  {
   "cell_type": "code",
   "execution_count": 5,
   "source": [
    "m = 57.23+29.21\n",
    "mfrac = 57.23/m\n",
    "results=calcs.calciner(m,mfrac)\n",
    "results\n"
   ],
   "outputs": [
    {
     "output_type": "execute_result",
     "data": {
      "text/plain": [
       "{'mfrac': 0.66207774178621,\n",
       " 'mass_camix_1': 57.23,\n",
       " 'mass_camix_2': 29.210000000000004,\n",
       " 'mass_cao_out': 57.5171102661597,\n",
       " 'mass_co2_out': 28.922889733840304,\n",
       " 'T_cao_o': 40,\n",
       " 'T_co2_o': 91.80220961561679,\n",
       " 'T_camix_1': 793.794691665132,\n",
       " 'T_camix_2': 885,\n",
       " 'T_camix_reactor_in': 824.6149954187356,\n",
       " 'delta_H_Tcalc': 170584.76918679866,\n",
       " 'Qe_calc': 121835973.26225258,\n",
       " 'We_calc': 123066639.658841}"
      ]
     },
     "metadata": {},
     "execution_count": 5
    }
   ],
   "metadata": {}
  },
  {
   "cell_type": "code",
   "execution_count": 19,
   "source": [
    "calcs.co2_multiple_stage_compressor(24.36,35,1e5,75e5,20,6)"
   ],
   "outputs": [
    {
     "output_type": "execute_result",
     "data": {
      "text/plain": [
       "{'compressor_power': -7015693.72477159, 'cooling_energy': 13287184.546236776}"
      ]
     },
     "metadata": {},
     "execution_count": 19
    }
   ],
   "metadata": {}
  },
  {
   "cell_type": "code",
   "execution_count": 15,
   "source": [
    "inputs={}\n",
    "inputs[\"mass_camix_in\"]=57.23+29.21\n",
    "inputs[\"mfrac\"]=57.23/(57.23+29.21)\n",
    "calcs.solve(inputs)"
   ],
   "outputs": [
    {
     "output_type": "execute_result",
     "data": {
      "text/plain": [
       "{'mfrac': 0.66207774178621,\n",
       " 'mass_camix_1': 57.23,\n",
       " 'mass_camix_2': 29.210000000000004,\n",
       " 'mass_cao_out': 62.098496,\n",
       " 'mass_CO2_out': 24.341503999999993,\n",
       " 'T_cao_o': 40,\n",
       " 'T_co2_o': 35,\n",
       " 'T_camix_1': 861.0189858916551,\n",
       " 'T_camix_2': 811.4525307434043,\n",
       " 'T_camix_reactor_in': 844.2693774363057,\n",
       " 'delta_H_Tcalc': 170584.76918679866,\n",
       " 'Qe_calc': 101238679.33483726,\n",
       " 'We_calc': 102261292.25741138,\n",
       " 'compressor_power': -6985027.295221284,\n",
       " 'cooling_energy': 13252237.540506149,\n",
       " 'conveying_power': -1485384.9600000002,\n",
       " 'cooling_power': -132522.3754050615,\n",
       " 'calc_auxiliary_power': -8602934.630626345}"
      ]
     },
     "metadata": {},
     "execution_count": 15
    }
   ],
   "metadata": {}
  },
  {
   "cell_type": "code",
   "execution_count": 4,
   "source": [
    "mfracs=np.arange(0.1,1,0.1)\n",
    "all_results=[]\n",
    "for mfrac in mfracs:\n",
    "    # print(mfrac)\n",
    "    results=calcs.calciner(m,mfrac)\n",
    "    all_results.append(results)\n"
   ],
   "outputs": [],
   "metadata": {}
  },
  {
   "cell_type": "code",
   "execution_count": 5,
   "source": [
    "df=pd.DataFrame(all_results)\n",
    "df.head(10)"
   ],
   "outputs": [
    {
     "output_type": "execute_result",
     "data": {
      "text/plain": [
       "   mfrac  mass_camix_1  mass_camix_2  mass_cao_out  mass_CO2_out     T_cao_o  \\\n",
       "0    0.1         8.644        77.796     62.098496     24.341504  772.225600   \n",
       "1    0.2        17.288        69.152     62.098496     24.341504  642.727002   \n",
       "2    0.3        25.932        60.508     62.098496     24.341504  511.351491   \n",
       "3    0.4        34.576        51.864     62.098496     24.341504  378.180621   \n",
       "4    0.5        43.220        43.220     62.098496     24.341504  242.562338   \n",
       "5    0.6        51.864        34.576     62.098496     24.341504  104.974778   \n",
       "6    0.7        60.508        25.932     62.098496     24.341504   40.000000   \n",
       "7    0.8        69.152        17.288     62.098496     24.341504   40.000000   \n",
       "8    0.9        77.796         8.644     62.098496     24.341504   40.000000   \n",
       "\n",
       "      T_co2_o   T_camix_1   T_camix_2  T_camix_reactor_in  delta_H_Tcalc  \\\n",
       "0   35.000000  880.000000  343.652878          397.287590  170584.769187   \n",
       "1   35.000000  880.000000  380.910123          480.728098  170584.769187   \n",
       "2   35.000000  880.000000  429.029237          564.320466  170584.769187   \n",
       "3   35.000000  880.000000  490.762763          646.457658  170584.769187   \n",
       "4   35.000000  880.000000  576.716903          728.358452  170584.769187   \n",
       "5   35.000000  880.000000  700.633203          808.253281  170584.769187   \n",
       "6   56.158228  820.468391  885.000000          839.827874  170584.769187   \n",
       "7  372.487263  730.607942  885.000000          761.486354  170584.769187   \n",
       "8  645.582341  660.081336  885.000000          682.573203  170584.769187   \n",
       "\n",
       "        Qe_calc       We_calc  \n",
       "0  1.505488e+08  1.520695e+08  \n",
       "1  1.421277e+08  1.435633e+08  \n",
       "2  1.333292e+08  1.346760e+08  \n",
       "3  1.243321e+08  1.255880e+08  \n",
       "4  1.150142e+08  1.161759e+08  \n",
       "5  1.055928e+08  1.066594e+08  \n",
       "6  1.017793e+08  1.028073e+08  \n",
       "7  1.111475e+08  1.122702e+08  \n",
       "8  1.202657e+08  1.214805e+08  "
      ],
      "text/html": [
       "<div>\n",
       "<style scoped>\n",
       "    .dataframe tbody tr th:only-of-type {\n",
       "        vertical-align: middle;\n",
       "    }\n",
       "\n",
       "    .dataframe tbody tr th {\n",
       "        vertical-align: top;\n",
       "    }\n",
       "\n",
       "    .dataframe thead th {\n",
       "        text-align: right;\n",
       "    }\n",
       "</style>\n",
       "<table border=\"1\" class=\"dataframe\">\n",
       "  <thead>\n",
       "    <tr style=\"text-align: right;\">\n",
       "      <th></th>\n",
       "      <th>mfrac</th>\n",
       "      <th>mass_camix_1</th>\n",
       "      <th>mass_camix_2</th>\n",
       "      <th>mass_cao_out</th>\n",
       "      <th>mass_CO2_out</th>\n",
       "      <th>T_cao_o</th>\n",
       "      <th>T_co2_o</th>\n",
       "      <th>T_camix_1</th>\n",
       "      <th>T_camix_2</th>\n",
       "      <th>T_camix_reactor_in</th>\n",
       "      <th>delta_H_Tcalc</th>\n",
       "      <th>Qe_calc</th>\n",
       "      <th>We_calc</th>\n",
       "    </tr>\n",
       "  </thead>\n",
       "  <tbody>\n",
       "    <tr>\n",
       "      <th>0</th>\n",
       "      <td>0.1</td>\n",
       "      <td>8.644</td>\n",
       "      <td>77.796</td>\n",
       "      <td>62.098496</td>\n",
       "      <td>24.341504</td>\n",
       "      <td>772.225600</td>\n",
       "      <td>35.000000</td>\n",
       "      <td>880.000000</td>\n",
       "      <td>343.652878</td>\n",
       "      <td>397.287590</td>\n",
       "      <td>170584.769187</td>\n",
       "      <td>1.505488e+08</td>\n",
       "      <td>1.520695e+08</td>\n",
       "    </tr>\n",
       "    <tr>\n",
       "      <th>1</th>\n",
       "      <td>0.2</td>\n",
       "      <td>17.288</td>\n",
       "      <td>69.152</td>\n",
       "      <td>62.098496</td>\n",
       "      <td>24.341504</td>\n",
       "      <td>642.727002</td>\n",
       "      <td>35.000000</td>\n",
       "      <td>880.000000</td>\n",
       "      <td>380.910123</td>\n",
       "      <td>480.728098</td>\n",
       "      <td>170584.769187</td>\n",
       "      <td>1.421277e+08</td>\n",
       "      <td>1.435633e+08</td>\n",
       "    </tr>\n",
       "    <tr>\n",
       "      <th>2</th>\n",
       "      <td>0.3</td>\n",
       "      <td>25.932</td>\n",
       "      <td>60.508</td>\n",
       "      <td>62.098496</td>\n",
       "      <td>24.341504</td>\n",
       "      <td>511.351491</td>\n",
       "      <td>35.000000</td>\n",
       "      <td>880.000000</td>\n",
       "      <td>429.029237</td>\n",
       "      <td>564.320466</td>\n",
       "      <td>170584.769187</td>\n",
       "      <td>1.333292e+08</td>\n",
       "      <td>1.346760e+08</td>\n",
       "    </tr>\n",
       "    <tr>\n",
       "      <th>3</th>\n",
       "      <td>0.4</td>\n",
       "      <td>34.576</td>\n",
       "      <td>51.864</td>\n",
       "      <td>62.098496</td>\n",
       "      <td>24.341504</td>\n",
       "      <td>378.180621</td>\n",
       "      <td>35.000000</td>\n",
       "      <td>880.000000</td>\n",
       "      <td>490.762763</td>\n",
       "      <td>646.457658</td>\n",
       "      <td>170584.769187</td>\n",
       "      <td>1.243321e+08</td>\n",
       "      <td>1.255880e+08</td>\n",
       "    </tr>\n",
       "    <tr>\n",
       "      <th>4</th>\n",
       "      <td>0.5</td>\n",
       "      <td>43.220</td>\n",
       "      <td>43.220</td>\n",
       "      <td>62.098496</td>\n",
       "      <td>24.341504</td>\n",
       "      <td>242.562338</td>\n",
       "      <td>35.000000</td>\n",
       "      <td>880.000000</td>\n",
       "      <td>576.716903</td>\n",
       "      <td>728.358452</td>\n",
       "      <td>170584.769187</td>\n",
       "      <td>1.150142e+08</td>\n",
       "      <td>1.161759e+08</td>\n",
       "    </tr>\n",
       "    <tr>\n",
       "      <th>5</th>\n",
       "      <td>0.6</td>\n",
       "      <td>51.864</td>\n",
       "      <td>34.576</td>\n",
       "      <td>62.098496</td>\n",
       "      <td>24.341504</td>\n",
       "      <td>104.974778</td>\n",
       "      <td>35.000000</td>\n",
       "      <td>880.000000</td>\n",
       "      <td>700.633203</td>\n",
       "      <td>808.253281</td>\n",
       "      <td>170584.769187</td>\n",
       "      <td>1.055928e+08</td>\n",
       "      <td>1.066594e+08</td>\n",
       "    </tr>\n",
       "    <tr>\n",
       "      <th>6</th>\n",
       "      <td>0.7</td>\n",
       "      <td>60.508</td>\n",
       "      <td>25.932</td>\n",
       "      <td>62.098496</td>\n",
       "      <td>24.341504</td>\n",
       "      <td>40.000000</td>\n",
       "      <td>56.158228</td>\n",
       "      <td>820.468391</td>\n",
       "      <td>885.000000</td>\n",
       "      <td>839.827874</td>\n",
       "      <td>170584.769187</td>\n",
       "      <td>1.017793e+08</td>\n",
       "      <td>1.028073e+08</td>\n",
       "    </tr>\n",
       "    <tr>\n",
       "      <th>7</th>\n",
       "      <td>0.8</td>\n",
       "      <td>69.152</td>\n",
       "      <td>17.288</td>\n",
       "      <td>62.098496</td>\n",
       "      <td>24.341504</td>\n",
       "      <td>40.000000</td>\n",
       "      <td>372.487263</td>\n",
       "      <td>730.607942</td>\n",
       "      <td>885.000000</td>\n",
       "      <td>761.486354</td>\n",
       "      <td>170584.769187</td>\n",
       "      <td>1.111475e+08</td>\n",
       "      <td>1.122702e+08</td>\n",
       "    </tr>\n",
       "    <tr>\n",
       "      <th>8</th>\n",
       "      <td>0.9</td>\n",
       "      <td>77.796</td>\n",
       "      <td>8.644</td>\n",
       "      <td>62.098496</td>\n",
       "      <td>24.341504</td>\n",
       "      <td>40.000000</td>\n",
       "      <td>645.582341</td>\n",
       "      <td>660.081336</td>\n",
       "      <td>885.000000</td>\n",
       "      <td>682.573203</td>\n",
       "      <td>170584.769187</td>\n",
       "      <td>1.202657e+08</td>\n",
       "      <td>1.214805e+08</td>\n",
       "    </tr>\n",
       "  </tbody>\n",
       "</table>\n",
       "</div>"
      ]
     },
     "metadata": {},
     "execution_count": 5
    }
   ],
   "metadata": {}
  },
  {
   "cell_type": "code",
   "execution_count": 8,
   "source": [
    "with pplot.rc.context({\"grid\": False}):\n",
    "    fig, ax = pplot.subplots(aspect=(1, 1), axwidth=3)\n",
    "\n",
    "    ax.plot(df[\"mfrac\"],df[\"Qe_calc\"]/1e6,linestyle=\"-\",marker=\"o\")\n",
    "\n",
    "    ax.format(xlabel=\"CaCO3 fraction\",ylabel=\"We (MW)\")\n",
    "    # ax.set_ylim([38,46.5])\n",
    "\n",
    "    # fig.savefig(\"hot_water_Tw=80.jpg\",bbox_inches='tight')"
   ],
   "outputs": [
    {
     "output_type": "display_data",
     "data": {
      "text/plain": [
       "<Figure size 370.833x366.528 with 1 Axes>"
      ],
      "image/png": "[encoded data removed]"
     },
     "metadata": {
      "image/png": {
       "width": 359,
       "height": 350
      }
     }
    }
   ],
   "metadata": {}
  }
 ],
 "metadata": {
  "orig_nbformat": 4,
  "language_info": {
   "name": "python",
   "version": "3.8.5",
   "mimetype": "text/x-python",
   "codemirror_mode": {
    "name": "ipython",
    "version": 3
   },
   "pygments_lexer": "ipython3",
   "nbconvert_exporter": "python",
   "file_extension": ".py"
  },
  "kernelspec": {
   "name": "python3",
   "display_name": "Python 3.8.5 64-bit ('.venv')"
  },
  "interpreter": {
   "hash": "83a1c713f43b468b4af359c25f1acba2bda9c186b92e3b5230d8ac3ff52052d6"
  }
 },
 "nbformat": 4,
 "nbformat_minor": 2
}