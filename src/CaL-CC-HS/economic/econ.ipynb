{
 "cells": [
  {
   "cell_type": "code",
   "execution_count": 19,
   "source": [
    "import numpy as np\n",
    "import pandas as pd \n",
    "import math\n",
    "# import proplot as pplot\n",
    "import matplotlib.pyplot as plt\n",
    "import CoolProp.CoolProp as CP"
   ],
   "outputs": [],
   "metadata": {}
  },
  {
   "cell_type": "markdown",
   "source": [
    "## constants"
   ],
   "metadata": {}
  },
  {
   "cell_type": "code",
   "execution_count": 20,
   "source": [
    "Eur2Dollar=1.18 # 2018"
   ],
   "outputs": [],
   "metadata": {}
  },
  {
   "cell_type": "markdown",
   "source": [
    "## Calciner cost estimation"
   ],
   "metadata": {}
  },
  {
   "cell_type": "code",
   "execution_count": 21,
   "source": [
    "Qcal1=1649173 #W\n",
    "Ccal1_1=13140*math.pow(Qcal1/1000,0.67)*Eur2Dollar ### based on Michalski et al., Journal of Cleaner Production, 219(2019): 540-551\n",
    "Ccal1_2=533394*math.pow(Qcal1/1000/293,0.48) ## based on Tesio et al., ECM, 6(2020):100039\n",
    "print(f\"Ccal1_1:{Ccal1_1/1e6} M$, Ccal1_2:{Ccal1_2/1e6} M$\")\n"
   ],
   "outputs": [
    {
     "output_type": "stream",
     "name": "stdout",
     "text": [
      "Ccal1_1:2.218430038994243 M$, Ccal1_2:1.2224734957456571 M$\n"
     ]
    }
   ],
   "metadata": {}
  },
  {
   "cell_type": "code",
   "execution_count": 22,
   "source": [
    "Qcals=np.arange(0,50000,1000)\n",
    "Ccals=13140*np.power(Qcals,0.67)*Eur2Dollar/1e6\n",
    "fig,ax=plt.subplots()\n",
    "ax.plot(Qcals/1e3,Ccals)\n",
    "ax.set_xlabel(\"Qcal (MW)\")\n",
    "ax.set_ylabel(\"cost (M$)\")"
   ],
   "outputs": [
    {
     "output_type": "execute_result",
     "data": {
      "text/plain": [
       "Text(0, 0.5, 'cost (M$)')"
      ]
     },
     "metadata": {},
     "execution_count": 22
    },
    {
     "output_type": "display_data",
     "data": {
      "text/plain": [
       "<Figure size 432x288 with 1 Axes>"
      ],
      "image/png": "[encoded data removed]"
     },
     "metadata": {
      "needs_background": "light"
     }
    }
   ],
   "metadata": {}
  },
  {
   "cell_type": "markdown",
   "source": [
    "### choice :  Michalski et al's correlation is more close to our scenerio, which use the external heating source to provide the thermal flux"
   ],
   "metadata": {}
  },
  {
   "cell_type": "markdown",
   "source": [
    "## Carbonator cost estimation "
   ],
   "metadata": {}
  },
  {
   "cell_type": "code",
   "execution_count": 23,
   "source": [
    "Qcarb1=1572912 #W\n",
    "m_cao=1.010 #kg/s\n",
    "rho_cao= 3297.63 \n",
    "v_cao=m_cao/rho_cao #m3/s\n",
    "Ccarb1_1=16591*math.pow(Qcarb1/1000,0.67)*Eur2Dollar ### based on Michalski et al., Journal of Cleaner Production, 219(2019): 540-551\n",
    "Ccarb1_2_1=19594*math.pow(Qcarb1/1000,0.5)  ## based on Tesio et al., ECM, 6(2020):100039\n",
    "Ccarb1_2_2=106200*math.pow(v_cao,0.5)*1e3\n",
    "Ccarb1_3_2=85.9*math.pow(v_cao,0.5)*1e6*Eur2Dollar ## based on Lena et al., IGGC, 82(2019):244`260\n",
    "print(f\"Ccarb1_1: {Ccarb1_1/1e6} M$\")\n",
    "print(f\"Ccarb1_2_1: {Ccarb1_1/1e6} M$, Ccarb1_2_2: {Ccarb1_2_2/1e6} M$\")\n",
    "print(f\"Ccarb1_3_2: {Ccarb1_3_2/1e6} M$\")"
   ],
   "outputs": [
    {
     "output_type": "stream",
     "name": "stdout",
     "text": [
      "Ccarb1_1: 2.713604406955839 M$\n",
      "Ccarb1_2_1: 2.713604406955839 M$, Ccarb1_2_2: 1.8585927594348177 M$\n",
      "Ccarb1_3_2: 1.7739235337272319 M$\n"
     ]
    }
   ],
   "metadata": {}
  },
  {
   "cell_type": "markdown",
   "source": [
    "### comments:\n",
    "1. the entrained flow carbonator is cheaper than the fluidized bed carbonator \n",
    "2. the cost estimation of the entrained flow carbonator is wrong in Tesio et al's paper, in which the factor of 1e3 may be missing "
   ],
   "metadata": {}
  },
  {
   "cell_type": "markdown",
   "source": [
    "## CO2 compressor in calciner side "
   ],
   "metadata": {}
  },
  {
   "cell_type": "markdown",
   "source": [
    "### based on Michalski et al., Journal of Cleaner Production, 219(2019): 540-551\n",
    "\n"
   ],
   "metadata": {}
  },
  {
   "cell_type": "markdown",
   "source": [
    "cost=compressor + intercooling heat transfer"
   ],
   "metadata": {}
  },
  {
   "cell_type": "code",
   "execution_count": 24,
   "source": [
    "eff_c=0.87\n",
    "m_co2=0.3969 # kg/s\n",
    "compressor_Ti=35 #oC\n",
    "compressor_Tc=20 #oC\n",
    "compressor_To_stages=[93.95438673015866, 77.30483442382098, 77.58058758371487, 78.1297166891627,\n",
    "      79.14305948097035, 80.08382370096854]\n",
    "compressor_pi_stages= [101325, 207622.32700089482, 425433.3152653984, 871743.9417627172,\n",
    "      1786267.0193704206, 3660191.613191603]\n",
    "compressor_po_stages=[207622.32700089482, 425433.3152653984, 871743.9417627172,\n",
    "      1786267.0193704206, 3660191.613191603, 7499999.999999997]\n",
    "compressor_power_stages=[21155.289857331296, 20018.569081665843, 19772.868708218593,\n",
    "      19258.576193110333, 18151.521787245063, 15547.619979204213]\n",
    "compressor_cooling_energy_stages=[26010.39918493443, 20270.140605142893, 20984.03626507961,\n",
    "      22665.623143611258, 27608.970860289217, 98564.31906164312]\n",
    "\n",
    "U=2900 \n",
    "deltaT=15\n",
    "Ccs_1=[] \n",
    "Cs_HE=[] \n",
    "\n",
    "indexs=np.arange(0,6,1)\n",
    "for i in indexs:\n",
    "    pi=compressor_pi_stages[i]\n",
    "    po=compressor_po_stages[i]\n",
    "    Ti=compressor_Ti\n",
    "    To=compressor_To_stages[i]\n",
    "    \n",
    "    rho_air_in=CP.PropsSI('D', 'T', Ti+273.15, 'P', pi, \"REFPROP::air\")\n",
    "    rho_CO2_in=CP.PropsSI('D', 'T', Ti+273.15, 'P', pi, \"REFPROP::co2\")\n",
    "    rho_CO2_out=CP.PropsSI('D', 'T', To+273.15, 'P', po, \"REFPROP::co2\")\n",
    "    m_air_e=m_co2*rho_air_in/rho_CO2_in\n",
    "    rho_air_out_e=m_air_e/m_co2*rho_CO2_out\n",
    "    p_o_air_e=CP.PropsSI(\"P\",'T', To+273.15,\"D\",rho_air_out_e,\"REFPROP::air\")\n",
    "    Cc_1=m_air_e*47.1/(1-eff_c)*p_o_air_e/pi*math.log(p_o_air_e/pi)*Eur2Dollar\n",
    "    Ccs_1.append(Cc_1)\n",
    "\n",
    "    Qc=compressor_cooling_energy_stages[i]\n",
    "    A=Qc/U/deltaT\n",
    "    C_HE=2546.9*math.pow(A,0.67)*math.pow(po/1e5,0.28)*Eur2Dollar\n",
    "    Cs_HE.append(C_HE)\n",
    "\n",
    "#     print(m_air_e,m_air_e,p_o_air_e,Cc_1,A,C_HE)\n",
    "\n",
    "total_CC=np.sum(Ccs_1)+np.sum(Cs_HE)\n",
    "print(f\"CC_1: {total_CC/1e6} M$\")"
   ],
   "outputs": [
    {
     "output_type": "stream",
     "name": "stdout",
     "text": [
      "CC_1: 0.03751834266650559 M$\n"
     ]
    }
   ],
   "metadata": {}
  },
  {
   "cell_type": "markdown",
   "source": [
    "### based on Tesio et al., ECM, 6(2020):100039"
   ],
   "metadata": {}
  },
  {
   "cell_type": "code",
   "execution_count": 25,
   "source": [
    "Cc_2=7331*math.pow(np.sum(compressor_power_stages)/1e3,0.7865)\n",
    "print(f\"CC_2: {Cc_2/1e6} M$\")"
   ],
   "outputs": [
    {
     "output_type": "stream",
     "name": "stdout",
     "text": [
      "CC_2: 0.30383126378512676 M$\n"
     ]
    }
   ],
   "metadata": {}
  },
  {
   "cell_type": "markdown",
   "source": [
    "### comments:\n",
    "1. the compressor cost estimation in Michalski et al.'s study significantly underestimate the compressor cost, which gave a low price of around 160$\n",
    "\n",
    "2. The cost estimation correlation  in Tesio et al., ECM, 6(2020):100039 cited Carlson et al's studies, which fit the cost with the vendor data. The price has considered the cost of intercooling heat transfer "
   ],
   "metadata": {}
  },
  {
   "cell_type": "markdown",
   "source": [
    "### flue gas fan in the carbonator side"
   ],
   "metadata": {}
  },
  {
   "cell_type": "code",
   "execution_count": 26,
   "source": [
    "Pfan=16521 #W\n",
    "Cfan1=103193*math.pow(Pfan/445/1000,0.67)*Eur2Dollar ### based on Michalski et al., Journal of Cleaner Production, 219(2019): 540-551\n",
    "print(f\"Cfan1:{Cfan1/1e6} M$\")"
   ],
   "outputs": [
    {
     "output_type": "stream",
     "name": "stdout",
     "text": [
      "Cfan1:0.013403412396749232 M$\n"
     ]
    }
   ],
   "metadata": {}
  },
  {
   "cell_type": "code",
   "execution_count": 27,
   "source": [
    "## if used the CO2 pump based on Michalski et al., Journal of Cleaner Production, 219(2019): 540-551\n",
    "Cpump1=3531.4*math.pow(Pfan/1000,0.71)*(1+math.pow((1-0.8)/(1-eff_c),3))*Eur2Dollar\n",
    "print(f\"Cpump1:{Cpump1/1e6} M$\")"
   ],
   "outputs": [
    {
     "output_type": "stream",
     "name": "stdout",
     "text": [
      "Cpump1:0.141669733689819 M$\n"
     ]
    }
   ],
   "metadata": {}
  },
  {
   "cell_type": "markdown",
   "source": [
    "### comments:\n",
    "1. CO2 pump is much expesnive than the normal fan by almost one order of magnitude, it is because\n",
    "that the the high pressure condition for CO2 pump increase its investment cost \n",
    "2. around the abiment condition is our case. So we should use the fan cost to estimate the fan cost "
   ],
   "metadata": {}
  },
  {
   "cell_type": "markdown",
   "source": [
    "## Heat transfer network in carbonator side "
   ],
   "metadata": {}
  },
  {
   "cell_type": "code",
   "execution_count": 28,
   "source": [
    "import sys\n",
    "sys.path.append(\"/home/anoldfriend/Workspace/MyRepo/thermodynamics/CaL/src/CaL-CC-HS\")\n",
    "from pyCaLPlant import Pinch_point_analyzer\n",
    "CaLRepo = '/home/anoldfriend/Workspace/MyRepo/thermodynamics/CaL'\n",
    "# print(CaLRepo)\n",
    "sys.path.append(f\"{CaLRepo}/utilities/\")\n",
    "from pyPinch import PyPinch\n",
    "import json\n",
    "%load_ext autoreload\n",
    "%autoreload 2"
   ],
   "outputs": [
    {
     "output_type": "stream",
     "name": "stdout",
     "text": [
      "The autoreload extension is already loaded. To reload it, use:\n",
      "  %reload_ext autoreload\n"
     ]
    }
   ],
   "metadata": {}
  },
  {
   "cell_type": "code",
   "execution_count": 29,
   "source": [
    "with open(\"../results.json\",\"r\") as fp:\n",
    "    results=json.load(fp)\n",
    "\n",
    "pa = Pinch_point_analyzer(results[\"carb\"])\n",
    "pa.write_pyPinch_data_csv(\"./pa.csv\")\n",
    "pa_text = pa.write_pyPinch_data_text()\n",
    "hot_util, cold_util,A = pa.solve(pa_text)\n",
    "hot_util, cold_util,A"
   ],
   "outputs": [
    {
     "output_type": "execute_result",
     "data": {
      "text/plain": [
       "(99.98679402688992, 20944.590000000015, 308.075)"
      ]
     },
     "metadata": {},
     "execution_count": 29
    }
   ],
   "metadata": {}
  },
  {
   "cell_type": "code",
   "execution_count": 30,
   "source": [
    "pa.write_pyPinch_data_text()"
   ],
   "outputs": [
    {
     "output_type": "execute_result",
     "data": {
      "text/plain": [
       "'Tmin 15 \\n       CP    TSUPPLY    TTARGET\\n 1.396306 650.000000  20.000000\\n 1.719197 650.000000  40.000000\\n 2.139066  48.101281 623.714244\\n 0.921332  20.000000 634.999739\\n26.507541  20.000000  24.136381'"
      ]
     },
     "metadata": {},
     "execution_count": 30
    }
   ],
   "metadata": {}
  },
  {
   "cell_type": "code",
   "execution_count": 31,
   "source": [
    "options = {'debug','draw'}\n",
    "pinch = PyPinch(pa_text,options)\n",
    "pinch.solve()"
   ],
   "outputs": [
    {
     "output_type": "stream",
     "name": "stdout",
     "text": [
      "\n",
      "Streams: \n",
      "{'type': 'HOT', 'cp': 1.396306, 'ts': 650.0, 'tt': 20.0, 'ss': 642.5, 'st': 12.5}\n",
      "{'type': 'HOT', 'cp': 1.719197, 'ts': 650.0, 'tt': 40.0, 'ss': 642.5, 'st': 32.5}\n",
      "{'type': 'COLD', 'cp': 2.139066, 'ts': 48.101281, 'tt': 623.714244, 'ss': 55.601281, 'st': 631.214244}\n",
      "{'type': 'COLD', 'cp': 0.921332, 'ts': 20.0, 'tt': 634.999739, 'ss': 27.5, 'st': 642.499739}\n",
      "{'type': 'COLD', 'cp': 26.507541, 'ts': 20.0, 'tt': 24.136381, 'ss': 27.5, 'st': 31.636381}\n",
      "Tmin = 15.0\n",
      "\n",
      "Temperature Intervals: \n",
      "Interval 0 : {'t1': 642.5, 't2': 642.499739, 'streamNumbers': [0, 1]}\n",
      "Interval 1 : {'t1': 642.499739, 't2': 631.214244, 'streamNumbers': [0, 1, 3]}\n",
      "Interval 2 : {'t1': 631.214244, 't2': 55.601281, 'streamNumbers': [0, 1, 2, 3]}\n",
      "Interval 3 : {'t1': 55.601281, 't2': 32.5, 'streamNumbers': [0, 1, 3]}\n",
      "Interval 4 : {'t1': 32.5, 't2': 31.636381, 'streamNumbers': [0, 3]}\n",
      "Interval 5 : {'t1': 31.636381, 't2': 27.5, 'streamNumbers': [0, 3, 4]}\n",
      "Interval 6 : {'t1': 27.5, 't2': 12.5, 'streamNumbers': [0]}\n",
      "\n",
      "Problem Table: \n",
      "Interval 0 : {'deltaS': 0.0002610000000231594, 'deltaCP': 3.1155030000000004, 'deltaH': 0.0008131462830721532}\n",
      "Interval 1 : {'deltaS': 11.285494999999969, 'deltaCP': 2.1941710000000003, 'deltaH': 24.762305849644935}\n",
      "Interval 2 : {'deltaS': 575.612963, 'deltaCP': 0.05510500000000018, 'deltaH': 31.719152326115108}\n",
      "Interval 3 : {'deltaS': 23.101281, 'deltaCP': 2.1941710000000003, 'deltaH': 50.68816083305101}\n",
      "Interval 4 : {'deltaS': 0.8636189999999999, 'deltaCP': 0.474974, 'deltaH': 0.410196570906}\n",
      "Interval 5 : {'deltaS': 4.136381, 'deltaCP': -26.032567, 'deltaH': -107.680615520027}\n",
      "Interval 6 : {'deltaS': 15.0, 'deltaCP': 1.396306, 'deltaH': 20.94459}\n",
      "\n",
      "Unfeasible Heat Cascade: \n",
      "Interval 0 : {'deltaH': 0.0008131462830721532, 'exitH': 0.0008131462830721532}\n",
      "Interval 1 : {'deltaH': 24.762305849644935, 'exitH': 24.763118995928007}\n",
      "Interval 2 : {'deltaH': 31.719152326115108, 'exitH': 56.48227132204312}\n",
      "Interval 3 : {'deltaH': 50.68816083305101, 'exitH': 107.17043215509412}\n",
      "Interval 4 : {'deltaH': 0.410196570906, 'exitH': 107.58062872600011}\n",
      "Interval 5 : {'deltaH': -107.680615520027, 'exitH': -0.09998679402688992}\n",
      "Interval 6 : {'deltaH': 20.94459, 'exitH': 20.84460320597311}\n",
      "\n",
      "Feasible Heat Cascade: \n",
      "Interval 0 : {'deltaH': 0.0008131462830721532, 'exitH': 0.10079994030996207}\n",
      "Interval 1 : {'deltaH': 24.762305849644935, 'exitH': 24.863105789954897}\n",
      "Interval 2 : {'deltaH': 31.719152326115108, 'exitH': 56.58225811607001}\n",
      "Interval 3 : {'deltaH': 50.68816083305101, 'exitH': 107.27041894912102}\n",
      "Interval 4 : {'deltaH': 0.410196570906, 'exitH': 107.68061552002702}\n",
      "Interval 5 : {'deltaH': -107.680615520027, 'exitH': 1.4210854715202004e-14}\n",
      "Interval 6 : {'deltaH': 20.94459, 'exitH': 20.944590000000016}\n",
      "\n",
      "Pinch Temperature (degC): 27.5\n",
      "Minimum Hot Utility (kW): 0.09998679402688992\n",
      "Minimum Cold Utility (kW): 20.944590000000016\n",
      "\n",
      "Shifted Composite Diagram Values: \n",
      "DeltaH Hot: [20.94459, 5.775653608586, 1.2058763914139998, 71.97211025934301, 1793.3239130653892, 35.159993528984906, 0.0008131462830721532]\n",
      "DeltaH Cold: [0.0, 113.456269128613, 0.7956798205079999, 21.283949426292, 1761.6047607392743, 10.397687679339972, 0.0]\n",
      "\n",
      "Hot H: [0.0, 20.94459, 26.720243608586003, 27.926120000000004, 99.89823025934302, 1893.2221433247323, 1928.3821368537172, 1928.3829500000002]\n",
      "Hot T: [12.5, 27.5, 31.636381, 32.5, 55.601281, 631.214244, 642.499739, 642.5]\n",
      "\n",
      "Cold H: [20.944590000000016, 134.400859128613, 135.19653894912102, 156.48048837541302, 1918.0852491146873, 1928.4829367940272]\n",
      "Cold T: [27.5, 31.636381, 32.5, 55.601281, 631.214244, 642.499739]\n",
      "\n",
      "Grand Composite Curve: \n",
      "Net H (kW): [0.09998679402688992, 0.10079994030996207, 24.863105789954897, 56.58225811607001, 107.27041894912102, 107.68061552002702, 1.4210854715202004e-14, 20.944590000000016]\n",
      "T (degC): [642.5, 642.499739, 631.214244, 55.601281, 32.5, 31.636381, 27.5, 12.5]\n"
     ]
    },
    {
     "output_type": "display_data",
     "data": {
      "text/plain": [
       "<Figure size 432x288 with 1 Axes>"
      ],
      "image/png": "[encoded data removed]"
     },
     "metadata": {
      "needs_background": "light"
     }
    },
    {
     "output_type": "display_data",
     "data": {
      "text/plain": [
       "<Figure size 432x432 with 1 Axes>"
      ],
      "image/png": "[encoded data removed]"
     },
     "metadata": {
      "needs_background": "light"
     }
    },
    {
     "output_type": "display_data",
     "data": {
      "text/plain": [
       "<Figure size 720x432 with 2 Axes>"
      ],
      "image/png": "[encoded data removed]"
     },
     "metadata": {
      "needs_background": "light"
     }
    },
    {
     "output_type": "display_data",
     "data": {
      "text/plain": [
       "<Figure size 432x288 with 1 Axes>"
      ],
      "image/png": "[encoded data removed]"
     },
     "metadata": {
      "needs_background": "light"
     }
    },
    {
     "output_type": "display_data",
     "data": {
      "text/plain": [
       "<Figure size 432x288 with 1 Axes>"
      ],
      "image/png": "[encoded data removed]"
     },
     "metadata": {
      "needs_background": "light"
     }
    },
    {
     "output_type": "display_data",
     "data": {
      "text/plain": [
       "<Figure size 432x288 with 1 Axes>"
      ],
      "image/png": "[encoded data removed]"
     },
     "metadata": {
      "needs_background": "light"
     }
    }
   ],
   "metadata": {}
  },
  {
   "cell_type": "code",
   "execution_count": 32,
   "source": [
    "HIntervalTable=pinch.EnthaphyIntervalTable\n",
    "df=pd.DataFrame(HIntervalTable)\n",
    "df.head(15)"
   ],
   "outputs": [
    {
     "output_type": "execute_result",
     "data": {
      "text/plain": [
       "         Hs        Ht  hotshiftedTs  hotshiftedTt  coldshiftedTs  \\\n",
       "0    20.945    26.720        31.636        27.500         27.500   \n",
       "1    26.720    27.926        32.500        31.636         27.711   \n",
       "2    27.926    99.898        55.601        32.500         27.755   \n",
       "3    99.898   134.401        66.676        55.601         30.378   \n",
       "4   134.401   135.197        66.931        66.676         31.637   \n",
       "5   135.197   156.480        73.763        66.931         32.501   \n",
       "6   156.480  1893.222       631.214        73.763         55.601   \n",
       "7  1893.222  1918.085       639.195       631.214        623.090   \n",
       "8  1918.085  1928.382       642.500       639.195        631.214   \n",
       "\n",
       "   coldshiftedTt hotStreams coldStreams      flux       LMTD  \n",
       "0         27.711        [0]      [3, 4]     5.775  16.886543  \n",
       "1         27.755        [0]      [3, 4]     1.206  19.332102  \n",
       "2         30.378     [0, 1]      [3, 4]    71.972  28.779883  \n",
       "3         31.637     [0, 1]      [3, 4]    34.503  44.952520  \n",
       "4         32.501     [0, 1]         [3]     0.796  49.733879  \n",
       "5         55.601     [0, 1]         [3]    21.283  40.756313  \n",
       "6        623.090     [0, 1]      [2, 3]  1736.742  27.842065  \n",
       "7        631.214     [0, 1]      [2, 3]    24.863  23.052426  \n",
       "8        642.390     [0, 1]         [3]    10.297  18.771270  "
      ],
      "text/html": [
       "<div>\n",
       "<style scoped>\n",
       "    .dataframe tbody tr th:only-of-type {\n",
       "        vertical-align: middle;\n",
       "    }\n",
       "\n",
       "    .dataframe tbody tr th {\n",
       "        vertical-align: top;\n",
       "    }\n",
       "\n",
       "    .dataframe thead th {\n",
       "        text-align: right;\n",
       "    }\n",
       "</style>\n",
       "<table border=\"1\" class=\"dataframe\">\n",
       "  <thead>\n",
       "    <tr style=\"text-align: right;\">\n",
       "      <th></th>\n",
       "      <th>Hs</th>\n",
       "      <th>Ht</th>\n",
       "      <th>hotshiftedTs</th>\n",
       "      <th>hotshiftedTt</th>\n",
       "      <th>coldshiftedTs</th>\n",
       "      <th>coldshiftedTt</th>\n",
       "      <th>hotStreams</th>\n",
       "      <th>coldStreams</th>\n",
       "      <th>flux</th>\n",
       "      <th>LMTD</th>\n",
       "    </tr>\n",
       "  </thead>\n",
       "  <tbody>\n",
       "    <tr>\n",
       "      <th>0</th>\n",
       "      <td>20.945</td>\n",
       "      <td>26.720</td>\n",
       "      <td>31.636</td>\n",
       "      <td>27.500</td>\n",
       "      <td>27.500</td>\n",
       "      <td>27.711</td>\n",
       "      <td>[0]</td>\n",
       "      <td>[3, 4]</td>\n",
       "      <td>5.775</td>\n",
       "      <td>16.886543</td>\n",
       "    </tr>\n",
       "    <tr>\n",
       "      <th>1</th>\n",
       "      <td>26.720</td>\n",
       "      <td>27.926</td>\n",
       "      <td>32.500</td>\n",
       "      <td>31.636</td>\n",
       "      <td>27.711</td>\n",
       "      <td>27.755</td>\n",
       "      <td>[0]</td>\n",
       "      <td>[3, 4]</td>\n",
       "      <td>1.206</td>\n",
       "      <td>19.332102</td>\n",
       "    </tr>\n",
       "    <tr>\n",
       "      <th>2</th>\n",
       "      <td>27.926</td>\n",
       "      <td>99.898</td>\n",
       "      <td>55.601</td>\n",
       "      <td>32.500</td>\n",
       "      <td>27.755</td>\n",
       "      <td>30.378</td>\n",
       "      <td>[0, 1]</td>\n",
       "      <td>[3, 4]</td>\n",
       "      <td>71.972</td>\n",
       "      <td>28.779883</td>\n",
       "    </tr>\n",
       "    <tr>\n",
       "      <th>3</th>\n",
       "      <td>99.898</td>\n",
       "      <td>134.401</td>\n",
       "      <td>66.676</td>\n",
       "      <td>55.601</td>\n",
       "      <td>30.378</td>\n",
       "      <td>31.637</td>\n",
       "      <td>[0, 1]</td>\n",
       "      <td>[3, 4]</td>\n",
       "      <td>34.503</td>\n",
       "      <td>44.952520</td>\n",
       "    </tr>\n",
       "    <tr>\n",
       "      <th>4</th>\n",
       "      <td>134.401</td>\n",
       "      <td>135.197</td>\n",
       "      <td>66.931</td>\n",
       "      <td>66.676</td>\n",
       "      <td>31.637</td>\n",
       "      <td>32.501</td>\n",
       "      <td>[0, 1]</td>\n",
       "      <td>[3]</td>\n",
       "      <td>0.796</td>\n",
       "      <td>49.733879</td>\n",
       "    </tr>\n",
       "    <tr>\n",
       "      <th>5</th>\n",
       "      <td>135.197</td>\n",
       "      <td>156.480</td>\n",
       "      <td>73.763</td>\n",
       "      <td>66.931</td>\n",
       "      <td>32.501</td>\n",
       "      <td>55.601</td>\n",
       "      <td>[0, 1]</td>\n",
       "      <td>[3]</td>\n",
       "      <td>21.283</td>\n",
       "      <td>40.756313</td>\n",
       "    </tr>\n",
       "    <tr>\n",
       "      <th>6</th>\n",
       "      <td>156.480</td>\n",
       "      <td>1893.222</td>\n",
       "      <td>631.214</td>\n",
       "      <td>73.763</td>\n",
       "      <td>55.601</td>\n",
       "      <td>623.090</td>\n",
       "      <td>[0, 1]</td>\n",
       "      <td>[2, 3]</td>\n",
       "      <td>1736.742</td>\n",
       "      <td>27.842065</td>\n",
       "    </tr>\n",
       "    <tr>\n",
       "      <th>7</th>\n",
       "      <td>1893.222</td>\n",
       "      <td>1918.085</td>\n",
       "      <td>639.195</td>\n",
       "      <td>631.214</td>\n",
       "      <td>623.090</td>\n",
       "      <td>631.214</td>\n",
       "      <td>[0, 1]</td>\n",
       "      <td>[2, 3]</td>\n",
       "      <td>24.863</td>\n",
       "      <td>23.052426</td>\n",
       "    </tr>\n",
       "    <tr>\n",
       "      <th>8</th>\n",
       "      <td>1918.085</td>\n",
       "      <td>1928.382</td>\n",
       "      <td>642.500</td>\n",
       "      <td>639.195</td>\n",
       "      <td>631.214</td>\n",
       "      <td>642.390</td>\n",
       "      <td>[0, 1]</td>\n",
       "      <td>[3]</td>\n",
       "      <td>10.297</td>\n",
       "      <td>18.771270</td>\n",
       "    </tr>\n",
       "  </tbody>\n",
       "</table>\n",
       "</div>"
      ]
     },
     "metadata": {},
     "execution_count": 32
    }
   ],
   "metadata": {}
  },
  {
   "cell_type": "code",
   "execution_count": 33,
   "source": [
    "def myRound(a,ndigital=3):\n",
    "    return round(a,ndigital)"
   ],
   "outputs": [],
   "metadata": {}
  },
  {
   "cell_type": "code",
   "execution_count": 34,
   "source": [
    "deltaHHots=[]\n",
    "hotTs=set()\n",
    "coldTs=set()\n",
    "deltaHColds=[]\n",
    "for interval in pinch.temperatureInterval:\n",
    "    hotH = 0\n",
    "    coldH = 0\n",
    "    # Add CP values for the hot and cold streams\n",
    "    # in a given temperature interval\n",
    "    for i in interval['streamNumbers']:\n",
    "        if pinch.streams.streamsData[i]['type'] == 'HOT':\n",
    "            hotH = hotH + pinch.streams.streamsData[i]['cp']\n",
    "        else:\n",
    "            coldH = coldH + pinch.streams.streamsData[i]['cp']\n",
    "    # Enthalpy = CP * deltaT\n",
    "    hotH = hotH * (interval['t1'] - interval['t2'])\n",
    "    deltaHHots.append(hotH)\n",
    "    hotTs.add(interval['t1'])\n",
    "    hotTs.add(interval['t2'])\n",
    "    coldH = coldH * (interval['t1'] - interval['t2'])\n",
    "    deltaHColds.append(coldH)\n",
    "    coldTs.add(interval['t1'])\n",
    "    coldTs.add(interval['t2'])\n",
    "\n",
    "\n",
    "hotTs=list(hotTs)\n",
    "hotTs.sort()\n",
    "coldTs=list(coldTs)\n",
    "coldTs.sort()\n",
    "deltaHHots.reverse()\n",
    "deltaHColds.reverse()\n",
    "\n",
    "print(f\"hotTs: {hotTs}\")\n",
    "print(f\"coldTs: {coldTs}\")\n",
    "print(f\"deltaHHots: {deltaHHots}\")\n",
    "print(f\"deltaHColds: {deltaHColds}\")\n"
   ],
   "outputs": [
    {
     "output_type": "stream",
     "name": "stdout",
     "text": [
      "hotTs: [12.5, 27.5, 31.636381, 32.5, 55.601281, 631.214244, 642.499739, 642.5]\n",
      "coldTs: [12.5, 27.5, 31.636381, 32.5, 55.601281, 631.214244, 642.499739, 642.5]\n",
      "deltaHHots: [20.94459, 5.775653608586, 1.2058763914139998, 71.97211025934301, 1793.3239130653892, 35.159993528984906, 0.0008131462830721532]\n",
      "deltaHColds: [0.0, 113.456269128613, 0.7956798205079999, 21.283949426292, 1761.6047607392743, 10.397687679339972, 0.0]\n"
     ]
    }
   ],
   "metadata": {}
  },
  {
   "cell_type": "code",
   "execution_count": 39,
   "source": [
    "totalHotH = 0.0\n",
    "shiftedCompositeDiagram={\"hot\":{\"H\":[],\"T\":[]},\"cold\":{\"H\":[],\"T\":[]}}\n",
    "shiftedCompositeDiagram['hot']['H'].append(totalHotH)\n",
    "shiftedCompositeDiagram['hot']['T'].append(hotTs[0])\n",
    "\n",
    "for i in range(1, len(hotTs)):\n",
    "    if deltaHHots[i - 1] != 0:\n",
    "        totalHotH = totalHotH + deltaHHots[i - 1]\n",
    "        shiftedCompositeDiagram['hot']['H'].append(totalHotH)\n",
    "        shiftedCompositeDiagram['hot']['T'].append(hotTs[i])\n",
    "\n",
    "totalColdH = pinch.coldUtility\n",
    "\n",
    "coldTs2=list()\n",
    "deltaHColds2=list()\n",
    "firstTemperature=0\n",
    "for i in range(0, len(deltaHColds)):\n",
    "    if deltaHColds[i] > 0:\n",
    "        firstTemperature=coldTs[i]\n",
    "        break\n",
    "coldTs2.append(firstTemperature)\n",
    "for i in range(0, len(deltaHColds)):\n",
    "    if deltaHColds[i] > 0:\n",
    "        coldTs2.append(coldTs[i+1])\n",
    "        deltaHColds2.append(deltaHColds[i])\n",
    "\n",
    "shiftedCompositeDiagram['cold']['H'].append(totalColdH)\n",
    "shiftedCompositeDiagram['cold']['T'].append(coldTs2[0])\n",
    "\n",
    "for i in range(1, len(coldTs2)):\n",
    "    totalColdH = totalColdH + deltaHColds2[i-1]\n",
    "    shiftedCompositeDiagram['cold']['H'].append(totalColdH)\n",
    "    shiftedCompositeDiagram['cold']['T'].append(coldTs2[i])\n",
    "\n",
    "print(f\"coldTs: {coldTs}\")\n",
    "print(f\"deltaHColds: {deltaHColds}\")\n",
    "print(f\"coldTs2: {coldTs2}\")\n",
    "print(f\"deltaHColds2: {deltaHColds2}\")\n",
    "print(f\"shiftedCompositeDiagram: {shiftedCompositeDiagram}\")"
   ],
   "outputs": [
    {
     "output_type": "stream",
     "name": "stdout",
     "text": [
      "coldTs: [12.5, 27.5, 31.636381, 32.5, 55.601281, 631.214244, 642.499739, 642.5]\n",
      "deltaHColds: [0.0, 113.456269128613, 0.7956798205079999, 21.283949426292, 1761.6047607392743, 10.397687679339972, 0.0]\n",
      "coldTs2: [27.5, 31.636381, 32.5, 55.601281, 631.214244, 642.499739]\n",
      "deltaHColds2: [113.456269128613, 0.7956798205079999, 21.283949426292, 1761.6047607392743, 10.397687679339972]\n",
      "shiftedCompositeDiagram: {'hot': {'H': [0.0, 20.94459, 26.720243608586003, 27.926120000000004, 99.89823025934302, 1893.2221433247323, 1928.3821368537172, 1928.3829500000002], 'T': [12.5, 27.5, 31.636381, 32.5, 55.601281, 631.214244, 642.499739, 642.5]}, 'cold': {'H': [20.944590000000016, 134.400859128613, 135.19653894912102, 156.48048837541302, 1918.0852491146873, 1928.4829367940272], 'T': [27.5, 31.636381, 32.5, 55.601281, 631.214244, 642.499739]}}\n"
     ]
    }
   ],
   "metadata": {}
  },
  {
   "cell_type": "code",
   "execution_count": 20,
   "source": [
    "DTmin=15\n",
    "compositeDiagram={\"hot\":{\"H\":[],\"T\":[]},\"cold\":{\"H\":[],\"T\":[]}}\n",
    "for i in range(0,len(shiftedCompositeDiagram[\"hot\"][\"H\"])):\n",
    "    compositeDiagram[\"hot\"][\"H\"].append(shiftedCompositeDiagram[\"hot\"][\"H\"][i])\n",
    "    compositeDiagram[\"hot\"][\"T\"].append(shiftedCompositeDiagram[\"hot\"][\"T\"][i]+DTmin/2)\n",
    "for i in range(0,len(shiftedCompositeDiagram[\"cold\"][\"H\"])):\n",
    "    compositeDiagram[\"cold\"][\"H\"].append(shiftedCompositeDiagram[\"cold\"][\"H\"][i])\n",
    "    compositeDiagram[\"cold\"][\"T\"].append(shiftedCompositeDiagram[\"cold\"][\"T\"][i]-DTmin/2)\n",
    "print(f\"compositeDiagram: {compositeDiagram}\")"
   ],
   "outputs": [
    {
     "output_type": "stream",
     "name": "stdout",
     "text": [
      "compositeDiagram: {'hot': {'H': [0.0, 20.94459, 26.720243608586003, 27.926120000000004, 99.89823025934302, 1893.2221433247323, 1928.3821368537172, 1928.3829500000002], 'T': [20.0, 35.0, 39.136381, 40.0, 63.101281, 638.714244, 649.999739, 650.0]}, 'cold': {'H': [20.944590000000016, 134.400859128613, 135.19653894912102, 156.48048837541302, 1918.0852491146873, 1928.4829367940272], 'T': [20.0, 24.136381, 25.0, 48.101281, 623.714244, 634.999739]}}\n"
     ]
    }
   ],
   "metadata": {}
  },
  {
   "cell_type": "code",
   "execution_count": 21,
   "source": [
    "pinch.temperatureInterval"
   ],
   "outputs": [
    {
     "output_type": "execute_result",
     "data": {
      "text/plain": [
       "[{'t1': 642.5, 't2': 642.499739, 'streamNumbers': [0, 1]},\n",
       " {'t1': 642.499739, 't2': 631.214244, 'streamNumbers': [0, 1, 3]},\n",
       " {'t1': 631.214244, 't2': 55.601281, 'streamNumbers': [0, 1, 2, 3]},\n",
       " {'t1': 55.601281, 't2': 32.5, 'streamNumbers': [0, 1, 3]},\n",
       " {'t1': 32.5, 't2': 31.636381, 'streamNumbers': [0, 3]},\n",
       " {'t1': 31.636381, 't2': 27.5, 'streamNumbers': [0, 3, 4]},\n",
       " {'t1': 27.5, 't2': 12.5, 'streamNumbers': [0]}]"
      ]
     },
     "metadata": {},
     "execution_count": 21
    }
   ],
   "metadata": {}
  },
  {
   "cell_type": "code",
   "execution_count": 22,
   "source": [
    "DTmin=15\n",
    "streams={\"Hot\":[0,1],\"Cold\":[2,3,4]}"
   ],
   "outputs": [],
   "metadata": {}
  },
  {
   "cell_type": "code",
   "execution_count": 23,
   "source": [
    "temperatureIntervals=pinch.temperatureInterval\n",
    "shiftTemperatures=set()\n",
    "for interval in temperatureIntervals:\n",
    "    streamNumbers=interval[\"streamNumbers\"]\n",
    "    HotStreams=list(set(streamNumbers)&set(streams[\"Hot\"]))\n",
    "    ColdStreams=list(set(streamNumbers)&set(streams[\"Cold\"]))\n",
    "    if len(HotStreams)>0 and len(ColdStreams)>0:\n",
    "        shiftTemperatures.add(interval[\"t1\"])\n",
    "        shiftTemperatures.add(interval[\"t2\"])\n",
    "shiftTemperatures=list(shiftTemperatures)\n",
    "shiftTemperatures.sort()\n",
    "print(f\"shiftTemperatures: {shiftTemperatures}\")"
   ],
   "outputs": [
    {
     "output_type": "stream",
     "name": "stdout",
     "text": [
      "shiftTemperatures: [27.5, 31.636381, 32.5, 55.601281, 631.214244, 642.499739]\n"
     ]
    }
   ],
   "metadata": {}
  },
  {
   "cell_type": "code",
   "execution_count": 24,
   "source": [
    "compositeDiagram=shiftedCompositeDiagram\n",
    "from scipy.interpolate import interp1d\n",
    "# hotHs=[myRound(H) for H in compositeDiagram['hot']['H']]\n",
    "# hotTs=[myRound(T) for T in compositeDiagram['hot']['T']]\n",
    "# coldHs=[myRound(H) for H in compositeDiagram['cold']['H']]\n",
    "# coldTs=[myRound(T) for T in compositeDiagram['cold']['T']]\n",
    "\n",
    "hotHs=compositeDiagram['hot']['H']\n",
    "hotTs=compositeDiagram['hot']['T']\n",
    "coldHs=compositeDiagram['cold']['H']\n",
    "coldTs=compositeDiagram['cold']['T']\n",
    "\n",
    "HotHTcurve=interp1d(hotHs,hotTs,fill_value=\"extrapolate\")\n",
    "ColdHTCurve=interp1d(coldHs,coldTs,fill_value=\"extrapolate\")\n",
    "HotTHCurve=interp1d(hotTs,hotHs,fill_value=\"extrapolate\")\n",
    "ColdTHCurve=interp1d(coldTs,coldHs,fill_value=\"extrapolate\")\n",
    "\n",
    "Hs=set()\n",
    "\n",
    "for shiftTemperature in shiftTemperatures:\n",
    "    HotH=myRound(HotTHCurve(shiftTemperature).item())\n",
    "    ColdH=myRound(ColdTHCurve(shiftTemperature).item())\n",
    "    Hs.add(HotH)\n",
    "    Hs.add(ColdH)\n",
    "Hs=list(Hs)\n",
    "Hs.sort()\n",
    "Hsegments=list()\n",
    "for i in np.arange(0,len(Hs)-1,1):\n",
    "    pair=(Hs[i],Hs[i+1])\n",
    "    Hsegments.append(pair)\n",
    "print(f\"Hs: {Hs}\")\n",
    "print(f\"Hsegments: {Hsegments}\")\n",
    "\n"
   ],
   "outputs": [
    {
     "output_type": "stream",
     "name": "stdout",
     "text": [
      "Hs: [20.945, 26.72, 27.926, 99.898, 134.401, 135.197, 156.48, 1893.222, 1918.085, 1928.382, 1928.483]\n",
      "Hsegments: [(20.945, 26.72), (26.72, 27.926), (27.926, 99.898), (99.898, 134.401), (134.401, 135.197), (135.197, 156.48), (156.48, 1893.222), (1893.222, 1918.085), (1918.085, 1928.382), (1928.382, 1928.483)]\n"
     ]
    }
   ],
   "metadata": {}
  },
  {
   "cell_type": "code",
   "execution_count": 25,
   "source": [
    "def lessThanOrEqual(a,b,eps=1e-3):\n",
    "    ret=b-a>0 or abs(a-b)<=eps\n",
    "    return ret\n",
    "def greaterThanOrEqual(a,b,eps=1e-3):\n",
    "    ret=a-b>0 or abs(a-b)<=eps\n",
    "    return ret \n",
    "\n",
    "def isInRange(a,range):\n",
    "    ret=lessThanOrEqual(range[0],a) and greaterThanOrEqual(range[1],a)\n",
    "    return ret \n",
    "\n",
    "# is range1 the subset of range2\n",
    "def isSubset(range1,range2):\n",
    "    ret=greaterThanOrEqual(range1[0],range2[0]) and lessThanOrEqual(range1[1],range2[1])\n",
    "    return ret \n",
    "\n",
    "print(isSubset((1,2),(0.9999,2.00001)))\n",
    "print(isSubset((1,2),(1.001,1.999)))\n",
    "print(isSubset((1,2),(1.01,1.999)))\n",
    "print(isSubset((1,2),(1.001,1.99)))"
   ],
   "outputs": [
    {
     "output_type": "stream",
     "name": "stdout",
     "text": [
      "True\n",
      "True\n",
      "False\n",
      "False\n"
     ]
    }
   ],
   "metadata": {}
  },
  {
   "cell_type": "code",
   "execution_count": 26,
   "source": [
    "def searchStream(shiftedTRange, streams,type):\n",
    "    sts=[]\n",
    "    for i,stream in enumerate(streams):\n",
    "        # print(stream)\n",
    "        if (stream['type'] == type):\n",
    "            ss=stream['ss']\n",
    "            st=stream['st']\n",
    "            if ss>st:\n",
    "                tmp=ss\n",
    "                ss=st\n",
    "                st=tmp\n",
    "            if isSubset(shiftedTRange,(ss,st)):\n",
    "                sts.append(i)\n",
    "    return sts\n",
    "\n",
    "# searchStream((30.742, 31.637),pinch.streams,\"COLD\")\n",
    "searchStream((642.39, 642.5),pinch.streams,\"COLD\")\n"
   ],
   "outputs": [
    {
     "output_type": "execute_result",
     "data": {
      "text/plain": [
       "[3]"
      ]
     },
     "metadata": {},
     "execution_count": 26
    }
   ],
   "metadata": {}
  },
  {
   "cell_type": "code",
   "execution_count": 27,
   "source": [
    "\n",
    "EffHSegments=list()\n",
    "for seg in Hsegments:\n",
    "    isSig=seg[1]-seg[0]>1e-1\n",
    "    if isSig:\n",
    "        EffHSegments.append(seg)\n",
    "print(f\"EffHSegments: {EffHSegments}\")"
   ],
   "outputs": [
    {
     "output_type": "stream",
     "name": "stdout",
     "text": [
      "EffHSegments: [(20.945, 26.72), (26.72, 27.926), (27.926, 99.898), (99.898, 134.401), (134.401, 135.197), (135.197, 156.48), (156.48, 1893.222), (1893.222, 1918.085), (1918.085, 1928.382), (1928.382, 1928.483)]\n"
     ]
    }
   ],
   "metadata": {}
  },
  {
   "cell_type": "code",
   "execution_count": 28,
   "source": [
    "\n",
    "HotTSegments=list()\n",
    "ColdTSegments=list()\n",
    "for seg in EffHSegments:\n",
    "    HotTSeg=(myRound(HotHTcurve(seg[0]).item()),myRound(HotHTcurve(seg[1]).item()))\n",
    "    HotTSegments.append(HotTSeg)\n",
    "    ColdTSeg=(myRound(ColdHTCurve(seg[0]).item()),myRound(ColdHTCurve(seg[1]).item()))\n",
    "    ColdTSegments.append(ColdTSeg)\n",
    "print(f\"Shifted HotTSegments: {HotTSegments}\")\n",
    "print(f\"Shifted ColdTSegments: {ColdTSegments}\")"
   ],
   "outputs": [
    {
     "output_type": "stream",
     "name": "stdout",
     "text": [
      "Shifted HotTSegments: [(27.5, 31.636), (31.636, 32.5), (32.5, 55.601), (55.601, 66.676), (66.676, 66.931), (66.931, 73.763), (73.763, 631.214), (631.214, 639.195), (639.195, 642.5), (642.5, 642.532)]\n",
      "Shifted ColdTSegments: [(27.5, 27.711), (27.711, 27.755), (27.755, 30.378), (30.378, 31.637), (31.637, 32.501), (32.501, 55.601), (55.601, 623.09), (623.09, 631.214), (631.214, 642.39), (642.39, 642.5)]\n"
     ]
    }
   ],
   "metadata": {}
  },
  {
   "cell_type": "code",
   "execution_count": 29,
   "source": [
    "for stream in pinch.streams:\n",
    "    print(stream)\n"
   ],
   "outputs": [
    {
     "output_type": "stream",
     "name": "stdout",
     "text": [
      "{'type': 'HOT', 'cp': 1.396306, 'ts': 650.0, 'tt': 20.0, 'ss': 642.5, 'st': 12.5}\n",
      "{'type': 'HOT', 'cp': 1.719197, 'ts': 650.0, 'tt': 40.0, 'ss': 642.5, 'st': 32.5}\n",
      "{'type': 'COLD', 'cp': 2.139066, 'ts': 48.101281, 'tt': 623.714244, 'ss': 55.601281, 'st': 631.214244}\n",
      "{'type': 'COLD', 'cp': 0.921332, 'ts': 20.0, 'tt': 634.999739, 'ss': 27.5, 'st': 642.499739}\n",
      "{'type': 'COLD', 'cp': 26.507541, 'ts': 20.0, 'tt': 24.136381, 'ss': 27.5, 'st': 31.636381}\n"
     ]
    }
   ],
   "metadata": {}
  },
  {
   "cell_type": "code",
   "execution_count": 30,
   "source": [
    "HotSegmentStreams=[]\n",
    "ColdSegmentStreams=[]\n",
    "\n",
    "for seg in HotTSegments:\n",
    "    ss=searchStream(seg,pinch.streams,\"HOT\")\n",
    "    HotSegmentStreams.append(ss)\n",
    "for seg in ColdTSegments:\n",
    "    ss=searchStream(seg,pinch.streams,\"COLD\")\n",
    "    ColdSegmentStreams.append(ss)\n",
    "print(f\"HotSegmentStreams: {HotSegmentStreams}\")\n",
    "print(f\"ColdSegmentStreams: {ColdSegmentStreams}\")\n"
   ],
   "outputs": [
    {
     "output_type": "stream",
     "name": "stdout",
     "text": [
      "HotSegmentStreams: [[0], [0], [0, 1], [0, 1], [0, 1], [0, 1], [0, 1], [0, 1], [0, 1], []]\n",
      "ColdSegmentStreams: [[3, 4], [3, 4], [3, 4], [3, 4], [3], [3], [2, 3], [2, 3], [3], [3]]\n"
     ]
    }
   ],
   "metadata": {}
  },
  {
   "cell_type": "code",
   "execution_count": 31,
   "source": [
    "streamPropertyTable=[]\n",
    "materials=[\"Ca\",\"Gas\",\"Gas\",\"Ca\",\"Water\"]\n",
    "HTCs={\"Ca\":300,\"Water\":2500,\"Gas\":600}\n",
    "for i,stream in enumerate(pinch.streams):\n",
    "    record={}\n",
    "    record[\"type\"]=stream[\"type\"]\n",
    "    record[\"MCP\"]=stream[\"cp\"]\n",
    "    record[\"HTC\"]=HTCs[materials[i]]\n",
    "    streamPropertyTable.append(record)\n",
    "\n",
    "df_streamProperty=pd.DataFrame(streamPropertyTable)\n",
    "df_streamProperty.head(5)\n",
    "\n"
   ],
   "outputs": [
    {
     "output_type": "execute_result",
     "data": {
      "text/plain": [
       "   type        MCP   HTC\n",
       "0   HOT   1.396306   300\n",
       "1   HOT   1.719197   600\n",
       "2  COLD   2.139066   600\n",
       "3  COLD   0.921332   300\n",
       "4  COLD  26.507541  2500"
      ],
      "text/html": [
       "<div>\n",
       "<style scoped>\n",
       "    .dataframe tbody tr th:only-of-type {\n",
       "        vertical-align: middle;\n",
       "    }\n",
       "\n",
       "    .dataframe tbody tr th {\n",
       "        vertical-align: top;\n",
       "    }\n",
       "\n",
       "    .dataframe thead th {\n",
       "        text-align: right;\n",
       "    }\n",
       "</style>\n",
       "<table border=\"1\" class=\"dataframe\">\n",
       "  <thead>\n",
       "    <tr style=\"text-align: right;\">\n",
       "      <th></th>\n",
       "      <th>type</th>\n",
       "      <th>MCP</th>\n",
       "      <th>HTC</th>\n",
       "    </tr>\n",
       "  </thead>\n",
       "  <tbody>\n",
       "    <tr>\n",
       "      <th>0</th>\n",
       "      <td>HOT</td>\n",
       "      <td>1.396306</td>\n",
       "      <td>300</td>\n",
       "    </tr>\n",
       "    <tr>\n",
       "      <th>1</th>\n",
       "      <td>HOT</td>\n",
       "      <td>1.719197</td>\n",
       "      <td>600</td>\n",
       "    </tr>\n",
       "    <tr>\n",
       "      <th>2</th>\n",
       "      <td>COLD</td>\n",
       "      <td>2.139066</td>\n",
       "      <td>600</td>\n",
       "    </tr>\n",
       "    <tr>\n",
       "      <th>3</th>\n",
       "      <td>COLD</td>\n",
       "      <td>0.921332</td>\n",
       "      <td>300</td>\n",
       "    </tr>\n",
       "    <tr>\n",
       "      <th>4</th>\n",
       "      <td>COLD</td>\n",
       "      <td>26.507541</td>\n",
       "      <td>2500</td>\n",
       "    </tr>\n",
       "  </tbody>\n",
       "</table>\n",
       "</div>"
      ]
     },
     "metadata": {},
     "execution_count": 31
    }
   ],
   "metadata": {}
  },
  {
   "cell_type": "code",
   "execution_count": 32,
   "source": [
    "HIntervalTable=[]\n",
    "for i,hseg in enumerate(EffHSegments):\n",
    "    record={}\n",
    "    record[\"Hs\"]=hseg[0]\n",
    "    record[\"Ht\"]=hseg[1]\n",
    "    record[\"hotshiftedTs\"]=HotTSegments[i][1]\n",
    "    record[\"hotshiftedTt\"]=HotTSegments[i][0]\n",
    "    record[\"coldshiftedTs\"]=ColdTSegments[i][0]\n",
    "    record[\"coldshiftedTt\"]=ColdTSegments[i][1]\n",
    "    record[\"hotStreams\"]=HotSegmentStreams[i]\n",
    "    record[\"coldStreams\"]=ColdSegmentStreams[i]\n",
    "    if len(HotSegmentStreams[i])>0 and len(ColdSegmentStreams[i])>0:\n",
    "        record[\"flux\"]=record[\"Ht\"]-record[\"Hs\"]\n",
    "        deltaT1=record[\"hotshiftedTt\"]-record[\"coldshiftedTs\"]+DTmin\n",
    "        deltaT2=record[\"hotshiftedTs\"]-record[\"coldshiftedTt\"]+DTmin\n",
    "        record[\"LMTD\"]=(deltaT1-deltaT2)/(math.log(deltaT1)-math.log(deltaT2))\n",
    "\n",
    "        HIntervalTable.append(record)\n",
    "\n",
    "df=pd.DataFrame(HIntervalTable)\n",
    "df.head(15)"
   ],
   "outputs": [
    {
     "output_type": "execute_result",
     "data": {
      "text/plain": [
       "         Hs        Ht  hotshiftedTs  hotshiftedTt  coldshiftedTs  \\\n",
       "0    20.945    26.720        31.636        27.500         27.500   \n",
       "1    26.720    27.926        32.500        31.636         27.711   \n",
       "2    27.926    99.898        55.601        32.500         27.755   \n",
       "3    99.898   134.401        66.676        55.601         30.378   \n",
       "4   134.401   135.197        66.931        66.676         31.637   \n",
       "5   135.197   156.480        73.763        66.931         32.501   \n",
       "6   156.480  1893.222       631.214        73.763         55.601   \n",
       "7  1893.222  1918.085       639.195       631.214        623.090   \n",
       "8  1918.085  1928.382       642.500       639.195        631.214   \n",
       "\n",
       "   coldshiftedTt hotStreams coldStreams      flux       LMTD  \n",
       "0         27.711        [0]      [3, 4]     5.775  16.886543  \n",
       "1         27.755        [0]      [3, 4]     1.206  19.332102  \n",
       "2         30.378     [0, 1]      [3, 4]    71.972  28.779883  \n",
       "3         31.637     [0, 1]      [3, 4]    34.503  44.952520  \n",
       "4         32.501     [0, 1]         [3]     0.796  49.733879  \n",
       "5         55.601     [0, 1]         [3]    21.283  40.756313  \n",
       "6        623.090     [0, 1]      [2, 3]  1736.742  27.842065  \n",
       "7        631.214     [0, 1]      [2, 3]    24.863  23.052426  \n",
       "8        642.390     [0, 1]         [3]    10.297  18.771270  "
      ],
      "text/html": [
       "<div>\n",
       "<style scoped>\n",
       "    .dataframe tbody tr th:only-of-type {\n",
       "        vertical-align: middle;\n",
       "    }\n",
       "\n",
       "    .dataframe tbody tr th {\n",
       "        vertical-align: top;\n",
       "    }\n",
       "\n",
       "    .dataframe thead th {\n",
       "        text-align: right;\n",
       "    }\n",
       "</style>\n",
       "<table border=\"1\" class=\"dataframe\">\n",
       "  <thead>\n",
       "    <tr style=\"text-align: right;\">\n",
       "      <th></th>\n",
       "      <th>Hs</th>\n",
       "      <th>Ht</th>\n",
       "      <th>hotshiftedTs</th>\n",
       "      <th>hotshiftedTt</th>\n",
       "      <th>coldshiftedTs</th>\n",
       "      <th>coldshiftedTt</th>\n",
       "      <th>hotStreams</th>\n",
       "      <th>coldStreams</th>\n",
       "      <th>flux</th>\n",
       "      <th>LMTD</th>\n",
       "    </tr>\n",
       "  </thead>\n",
       "  <tbody>\n",
       "    <tr>\n",
       "      <th>0</th>\n",
       "      <td>20.945</td>\n",
       "      <td>26.720</td>\n",
       "      <td>31.636</td>\n",
       "      <td>27.500</td>\n",
       "      <td>27.500</td>\n",
       "      <td>27.711</td>\n",
       "      <td>[0]</td>\n",
       "      <td>[3, 4]</td>\n",
       "      <td>5.775</td>\n",
       "      <td>16.886543</td>\n",
       "    </tr>\n",
       "    <tr>\n",
       "      <th>1</th>\n",
       "      <td>26.720</td>\n",
       "      <td>27.926</td>\n",
       "      <td>32.500</td>\n",
       "      <td>31.636</td>\n",
       "      <td>27.711</td>\n",
       "      <td>27.755</td>\n",
       "      <td>[0]</td>\n",
       "      <td>[3, 4]</td>\n",
       "      <td>1.206</td>\n",
       "      <td>19.332102</td>\n",
       "    </tr>\n",
       "    <tr>\n",
       "      <th>2</th>\n",
       "      <td>27.926</td>\n",
       "      <td>99.898</td>\n",
       "      <td>55.601</td>\n",
       "      <td>32.500</td>\n",
       "      <td>27.755</td>\n",
       "      <td>30.378</td>\n",
       "      <td>[0, 1]</td>\n",
       "      <td>[3, 4]</td>\n",
       "      <td>71.972</td>\n",
       "      <td>28.779883</td>\n",
       "    </tr>\n",
       "    <tr>\n",
       "      <th>3</th>\n",
       "      <td>99.898</td>\n",
       "      <td>134.401</td>\n",
       "      <td>66.676</td>\n",
       "      <td>55.601</td>\n",
       "      <td>30.378</td>\n",
       "      <td>31.637</td>\n",
       "      <td>[0, 1]</td>\n",
       "      <td>[3, 4]</td>\n",
       "      <td>34.503</td>\n",
       "      <td>44.952520</td>\n",
       "    </tr>\n",
       "    <tr>\n",
       "      <th>4</th>\n",
       "      <td>134.401</td>\n",
       "      <td>135.197</td>\n",
       "      <td>66.931</td>\n",
       "      <td>66.676</td>\n",
       "      <td>31.637</td>\n",
       "      <td>32.501</td>\n",
       "      <td>[0, 1]</td>\n",
       "      <td>[3]</td>\n",
       "      <td>0.796</td>\n",
       "      <td>49.733879</td>\n",
       "    </tr>\n",
       "    <tr>\n",
       "      <th>5</th>\n",
       "      <td>135.197</td>\n",
       "      <td>156.480</td>\n",
       "      <td>73.763</td>\n",
       "      <td>66.931</td>\n",
       "      <td>32.501</td>\n",
       "      <td>55.601</td>\n",
       "      <td>[0, 1]</td>\n",
       "      <td>[3]</td>\n",
       "      <td>21.283</td>\n",
       "      <td>40.756313</td>\n",
       "    </tr>\n",
       "    <tr>\n",
       "      <th>6</th>\n",
       "      <td>156.480</td>\n",
       "      <td>1893.222</td>\n",
       "      <td>631.214</td>\n",
       "      <td>73.763</td>\n",
       "      <td>55.601</td>\n",
       "      <td>623.090</td>\n",
       "      <td>[0, 1]</td>\n",
       "      <td>[2, 3]</td>\n",
       "      <td>1736.742</td>\n",
       "      <td>27.842065</td>\n",
       "    </tr>\n",
       "    <tr>\n",
       "      <th>7</th>\n",
       "      <td>1893.222</td>\n",
       "      <td>1918.085</td>\n",
       "      <td>639.195</td>\n",
       "      <td>631.214</td>\n",
       "      <td>623.090</td>\n",
       "      <td>631.214</td>\n",
       "      <td>[0, 1]</td>\n",
       "      <td>[2, 3]</td>\n",
       "      <td>24.863</td>\n",
       "      <td>23.052426</td>\n",
       "    </tr>\n",
       "    <tr>\n",
       "      <th>8</th>\n",
       "      <td>1918.085</td>\n",
       "      <td>1928.382</td>\n",
       "      <td>642.500</td>\n",
       "      <td>639.195</td>\n",
       "      <td>631.214</td>\n",
       "      <td>642.390</td>\n",
       "      <td>[0, 1]</td>\n",
       "      <td>[3]</td>\n",
       "      <td>10.297</td>\n",
       "      <td>18.771270</td>\n",
       "    </tr>\n",
       "  </tbody>\n",
       "</table>\n",
       "</div>"
      ]
     },
     "metadata": {},
     "execution_count": 32
    }
   ],
   "metadata": {}
  },
  {
   "cell_type": "code",
   "execution_count": 33,
   "source": [
    "for record in HIntervalTable:\n",
    "    hotStreams=record[\"hotStreams\"]\n",
    "    hotHTCs=[streamPropertyTable[i][\"HTC\"] for i in hotStreams]\n",
    "    hotMCPs=[streamPropertyTable[i][\"MCP\"] for i in hotStreams]\n",
    "    coldStreams=record[\"coldStreams\"]\n",
    "    coldHTCs=[streamPropertyTable[i][\"HTC\"] for i in coldStreams]\n",
    "    coldMCPs=[streamPropertyTable[i][\"MCP\"] for i in coldStreams]\n",
    "    record[\"hotQi\"]=[myRound(cp*(record[\"hotshiftedTs\"]-record[\"hotshiftedTt\"])) for cp in hotMCPs]\n",
    "    record[\"coldQi\"]=[myRound(cp*(record[\"coldshiftedTt\"]-record[\"coldshiftedTs\"])) for cp in coldMCPs]\n",
    "    hotHXA=[]\n",
    "    coldHXA=[]\n",
    "    for i,Qi in enumerate(record[\"hotQi\"]):\n",
    "        hotHXA.append(myRound(Qi/record[\"LMTD\"]/hotHTCs[i]*1000))\n",
    "    for i,Qi in enumerate(record[\"coldQi\"]):\n",
    "        coldHXA.append(myRound(Qi/record[\"LMTD\"]/coldHTCs[i]*1000))\n",
    "    record[\"hotHXA\"]=hotHXA\n",
    "    record[\"coldHXA\"]=coldHXA\n",
    "\n",
    "\n",
    "df=pd.DataFrame(HIntervalTable)\n",
    "df.head(15)\n"
   ],
   "outputs": [
    {
     "output_type": "execute_result",
     "data": {
      "text/plain": [
       "         Hs        Ht  hotshiftedTs  hotshiftedTt  coldshiftedTs  \\\n",
       "0    20.945    26.720        31.636        27.500         27.500   \n",
       "1    26.720    27.926        32.500        31.636         27.711   \n",
       "2    27.926    99.898        55.601        32.500         27.755   \n",
       "3    99.898   134.401        66.676        55.601         30.378   \n",
       "4   134.401   135.197        66.931        66.676         31.637   \n",
       "5   135.197   156.480        73.763        66.931         32.501   \n",
       "6   156.480  1893.222       631.214        73.763         55.601   \n",
       "7  1893.222  1918.085       639.195       631.214        623.090   \n",
       "8  1918.085  1928.382       642.500       639.195        631.214   \n",
       "\n",
       "   coldshiftedTt hotStreams coldStreams      flux       LMTD  \\\n",
       "0         27.711        [0]      [3, 4]     5.775  16.886543   \n",
       "1         27.755        [0]      [3, 4]     1.206  19.332102   \n",
       "2         30.378     [0, 1]      [3, 4]    71.972  28.779883   \n",
       "3         31.637     [0, 1]      [3, 4]    34.503  44.952520   \n",
       "4         32.501     [0, 1]         [3]     0.796  49.733879   \n",
       "5         55.601     [0, 1]         [3]    21.283  40.756313   \n",
       "6        623.090     [0, 1]      [2, 3]  1736.742  27.842065   \n",
       "7        631.214     [0, 1]      [2, 3]    24.863  23.052426   \n",
       "8        642.390     [0, 1]         [3]    10.297  18.771270   \n",
       "\n",
       "                hotQi               coldQi            hotHXA           coldHXA  \n",
       "0             [5.775]       [0.194, 5.593]            [1.14]    [0.038, 0.132]  \n",
       "1             [1.206]       [0.041, 1.166]           [0.208]    [0.007, 0.024]  \n",
       "2    [32.256, 39.715]      [2.417, 69.529]      [3.736, 2.3]     [0.28, 0.966]  \n",
       "3     [15.464, 19.04]       [1.16, 33.373]    [1.147, 0.706]    [0.086, 0.297]  \n",
       "4      [0.356, 0.438]              [0.796]    [0.024, 0.015]           [0.053]  \n",
       "5      [9.54, 11.746]             [21.283]      [0.78, 0.48]           [1.741]  \n",
       "6  [778.372, 958.368]  [1213.896, 522.846]  [93.189, 57.369]  [72.666, 62.597]  \n",
       "7    [11.144, 13.721]      [17.378, 7.485]    [1.611, 0.992]    [1.256, 1.082]  \n",
       "8      [4.615, 5.682]             [10.297]     [0.82, 0.504]           [1.829]  "
      ],
      "text/html": [
       "<div>\n",
       "<style scoped>\n",
       "    .dataframe tbody tr th:only-of-type {\n",
       "        vertical-align: middle;\n",
       "    }\n",
       "\n",
       "    .dataframe tbody tr th {\n",
       "        vertical-align: top;\n",
       "    }\n",
       "\n",
       "    .dataframe thead th {\n",
       "        text-align: right;\n",
       "    }\n",
       "</style>\n",
       "<table border=\"1\" class=\"dataframe\">\n",
       "  <thead>\n",
       "    <tr style=\"text-align: right;\">\n",
       "      <th></th>\n",
       "      <th>Hs</th>\n",
       "      <th>Ht</th>\n",
       "      <th>hotshiftedTs</th>\n",
       "      <th>hotshiftedTt</th>\n",
       "      <th>coldshiftedTs</th>\n",
       "      <th>coldshiftedTt</th>\n",
       "      <th>hotStreams</th>\n",
       "      <th>coldStreams</th>\n",
       "      <th>flux</th>\n",
       "      <th>LMTD</th>\n",
       "      <th>hotQi</th>\n",
       "      <th>coldQi</th>\n",
       "      <th>hotHXA</th>\n",
       "      <th>coldHXA</th>\n",
       "    </tr>\n",
       "  </thead>\n",
       "  <tbody>\n",
       "    <tr>\n",
       "      <th>0</th>\n",
       "      <td>20.945</td>\n",
       "      <td>26.720</td>\n",
       "      <td>31.636</td>\n",
       "      <td>27.500</td>\n",
       "      <td>27.500</td>\n",
       "      <td>27.711</td>\n",
       "      <td>[0]</td>\n",
       "      <td>[3, 4]</td>\n",
       "      <td>5.775</td>\n",
       "      <td>16.886543</td>\n",
       "      <td>[5.775]</td>\n",
       "      <td>[0.194, 5.593]</td>\n",
       "      <td>[1.14]</td>\n",
       "      <td>[0.038, 0.132]</td>\n",
       "    </tr>\n",
       "    <tr>\n",
       "      <th>1</th>\n",
       "      <td>26.720</td>\n",
       "      <td>27.926</td>\n",
       "      <td>32.500</td>\n",
       "      <td>31.636</td>\n",
       "      <td>27.711</td>\n",
       "      <td>27.755</td>\n",
       "      <td>[0]</td>\n",
       "      <td>[3, 4]</td>\n",
       "      <td>1.206</td>\n",
       "      <td>19.332102</td>\n",
       "      <td>[1.206]</td>\n",
       "      <td>[0.041, 1.166]</td>\n",
       "      <td>[0.208]</td>\n",
       "      <td>[0.007, 0.024]</td>\n",
       "    </tr>\n",
       "    <tr>\n",
       "      <th>2</th>\n",
       "      <td>27.926</td>\n",
       "      <td>99.898</td>\n",
       "      <td>55.601</td>\n",
       "      <td>32.500</td>\n",
       "      <td>27.755</td>\n",
       "      <td>30.378</td>\n",
       "      <td>[0, 1]</td>\n",
       "      <td>[3, 4]</td>\n",
       "      <td>71.972</td>\n",
       "      <td>28.779883</td>\n",
       "      <td>[32.256, 39.715]</td>\n",
       "      <td>[2.417, 69.529]</td>\n",
       "      <td>[3.736, 2.3]</td>\n",
       "      <td>[0.28, 0.966]</td>\n",
       "    </tr>\n",
       "    <tr>\n",
       "      <th>3</th>\n",
       "      <td>99.898</td>\n",
       "      <td>134.401</td>\n",
       "      <td>66.676</td>\n",
       "      <td>55.601</td>\n",
       "      <td>30.378</td>\n",
       "      <td>31.637</td>\n",
       "      <td>[0, 1]</td>\n",
       "      <td>[3, 4]</td>\n",
       "      <td>34.503</td>\n",
       "      <td>44.952520</td>\n",
       "      <td>[15.464, 19.04]</td>\n",
       "      <td>[1.16, 33.373]</td>\n",
       "      <td>[1.147, 0.706]</td>\n",
       "      <td>[0.086, 0.297]</td>\n",
       "    </tr>\n",
       "    <tr>\n",
       "      <th>4</th>\n",
       "      <td>134.401</td>\n",
       "      <td>135.197</td>\n",
       "      <td>66.931</td>\n",
       "      <td>66.676</td>\n",
       "      <td>31.637</td>\n",
       "      <td>32.501</td>\n",
       "      <td>[0, 1]</td>\n",
       "      <td>[3]</td>\n",
       "      <td>0.796</td>\n",
       "      <td>49.733879</td>\n",
       "      <td>[0.356, 0.438]</td>\n",
       "      <td>[0.796]</td>\n",
       "      <td>[0.024, 0.015]</td>\n",
       "      <td>[0.053]</td>\n",
       "    </tr>\n",
       "    <tr>\n",
       "      <th>5</th>\n",
       "      <td>135.197</td>\n",
       "      <td>156.480</td>\n",
       "      <td>73.763</td>\n",
       "      <td>66.931</td>\n",
       "      <td>32.501</td>\n",
       "      <td>55.601</td>\n",
       "      <td>[0, 1]</td>\n",
       "      <td>[3]</td>\n",
       "      <td>21.283</td>\n",
       "      <td>40.756313</td>\n",
       "      <td>[9.54, 11.746]</td>\n",
       "      <td>[21.283]</td>\n",
       "      <td>[0.78, 0.48]</td>\n",
       "      <td>[1.741]</td>\n",
       "    </tr>\n",
       "    <tr>\n",
       "      <th>6</th>\n",
       "      <td>156.480</td>\n",
       "      <td>1893.222</td>\n",
       "      <td>631.214</td>\n",
       "      <td>73.763</td>\n",
       "      <td>55.601</td>\n",
       "      <td>623.090</td>\n",
       "      <td>[0, 1]</td>\n",
       "      <td>[2, 3]</td>\n",
       "      <td>1736.742</td>\n",
       "      <td>27.842065</td>\n",
       "      <td>[778.372, 958.368]</td>\n",
       "      <td>[1213.896, 522.846]</td>\n",
       "      <td>[93.189, 57.369]</td>\n",
       "      <td>[72.666, 62.597]</td>\n",
       "    </tr>\n",
       "    <tr>\n",
       "      <th>7</th>\n",
       "      <td>1893.222</td>\n",
       "      <td>1918.085</td>\n",
       "      <td>639.195</td>\n",
       "      <td>631.214</td>\n",
       "      <td>623.090</td>\n",
       "      <td>631.214</td>\n",
       "      <td>[0, 1]</td>\n",
       "      <td>[2, 3]</td>\n",
       "      <td>24.863</td>\n",
       "      <td>23.052426</td>\n",
       "      <td>[11.144, 13.721]</td>\n",
       "      <td>[17.378, 7.485]</td>\n",
       "      <td>[1.611, 0.992]</td>\n",
       "      <td>[1.256, 1.082]</td>\n",
       "    </tr>\n",
       "    <tr>\n",
       "      <th>8</th>\n",
       "      <td>1918.085</td>\n",
       "      <td>1928.382</td>\n",
       "      <td>642.500</td>\n",
       "      <td>639.195</td>\n",
       "      <td>631.214</td>\n",
       "      <td>642.390</td>\n",
       "      <td>[0, 1]</td>\n",
       "      <td>[3]</td>\n",
       "      <td>10.297</td>\n",
       "      <td>18.771270</td>\n",
       "      <td>[4.615, 5.682]</td>\n",
       "      <td>[10.297]</td>\n",
       "      <td>[0.82, 0.504]</td>\n",
       "      <td>[1.829]</td>\n",
       "    </tr>\n",
       "  </tbody>\n",
       "</table>\n",
       "</div>"
      ]
     },
     "metadata": {},
     "execution_count": 33
    }
   ],
   "metadata": {}
  },
  {
   "cell_type": "code",
   "execution_count": 34,
   "source": [
    "totalHXA=0\n",
    "for record in HIntervalTable:\n",
    "    for HXA in record[\"hotHXA\"]:\n",
    "        totalHXA=totalHXA+HXA\n",
    "    for HXA in record[\"coldHXA\"]:\n",
    "        totalHXA=totalHXA+HXA\n",
    "print(f\"totalHXA:{totalHXA}\")"
   ],
   "outputs": [
    {
     "output_type": "stream",
     "name": "stdout",
     "text": [
      "totalHXA:308.075\n"
     ]
    }
   ],
   "metadata": {}
  },
  {
   "cell_type": "markdown",
   "source": [
    "### based on Fluid-Fluid HEX cost estimation (Tesio et al., Energy Conversion and Management: X, 6(2020), 100039)"
   ],
   "metadata": {}
  },
  {
   "cell_type": "code",
   "execution_count": 35,
   "source": [
    "IC_HX=3197*math.pow(totalHXA,0.67)\n",
    "print(f\"IC_HX: {IC_HX/1e6 }M$\")"
   ],
   "outputs": [
    {
     "output_type": "stream",
     "name": "stdout",
     "text": [
      "IC_HX: 0.148642315694627M$\n"
     ]
    }
   ],
   "metadata": {}
  },
  {
   "cell_type": "markdown",
   "source": [
    "### based on Fluid-Solid HEX cost estimation (Tesio et al., Energy Conversion and Management: X, 6(2020), 100039)"
   ],
   "metadata": {}
  },
  {
   "cell_type": "code",
   "execution_count": 36,
   "source": [
    "U=250\n",
    "IC_HX2=18.48*math.pow(U*totalHXA,0.67)\n",
    "print(f\"IC_HX: {IC_HX2/1e6 }M$\")"
   ],
   "outputs": [
    {
     "output_type": "stream",
     "name": "stdout",
     "text": [
      "IC_HX: 0.034731344755148656M$\n"
     ]
    }
   ],
   "metadata": {}
  },
  {
   "cell_type": "markdown",
   "source": [
    "### comments:\n",
    "1. It is difficult to figure out the HX area distribution over the two kinds of HX, that is Fluid-fluid HX and fluid-solid HX, and the HTC of the fluid-fluid HX is difficult to be determined due to the varying fluid type, including the flue gas and water\n",
    "2. and we found the cost estimation based on the Fluid-fluid HX is more conservative compared to the solid-fluid HX\n",
    "3. Therefore, we recommned to estimate the HX based on Fluid-Fluid HEX cost estimation (Tesio et al., Energy Conversion and Management: X, 6(2020), 100039)"
   ],
   "metadata": {}
  }
 ],
 "metadata": {
  "orig_nbformat": 4,
  "language_info": {
   "name": "python",
   "version": "3.8.5",
   "mimetype": "text/x-python",
   "codemirror_mode": {
    "name": "ipython",
    "version": 3
   },
   "pygments_lexer": "ipython3",
   "nbconvert_exporter": "python",
   "file_extension": ".py"
  },
  "kernelspec": {
   "name": "python3",
   "display_name": "Python 3.8.5 64-bit ('.venv')"
  },
  "interpreter": {
   "hash": "83a1c713f43b468b4af359c25f1acba2bda9c186b92e3b5230d8ac3ff52052d6"
  }
 },
 "nbformat": 4,
 "nbformat_minor": 2
}