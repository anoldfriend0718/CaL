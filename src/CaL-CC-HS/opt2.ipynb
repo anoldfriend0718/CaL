{
 "cells": [
  {
   "cell_type": "code",
   "execution_count": 2,
   "source": [
    "import os\n",
    "import sys\n",
    "# CaLRepo = os.environ.get(\"CaLRepo\")\n",
    "CaLRepo ='/home/anoldfriend/Workspace/MyRepo/thermodynamics/CaL'\n",
    "# print(CaLRepo)\n",
    "sys.path.append(f\"{CaLRepo}/utilities/\")\n",
    "\n",
    "import numpy as np\n",
    "import pandas as pd\n",
    "import proplot as pplot\n",
    "from scipy.optimize import minimize,minimize_scalar\n",
    "from pyCaLProblem import CalcProblem"
   ],
   "outputs": [],
   "metadata": {}
  },
  {
   "cell_type": "code",
   "execution_count": 3,
   "source": [
    "parameters = dict()\n",
    "flue_gas_composistion = dict()\n",
    "flue_gas_composistion[\"co2\"] = 0.1338\n",
    "flue_gas_composistion[\"o2\"] = 0.0384\n",
    "flue_gas_composistion[\"n2\"] = 0.6975\n",
    "parameters[\"flue_gas_composition\"] = flue_gas_composistion\n",
    "parameters[\"decarbonized_rate\"] = 0.9\n",
    "parameters[\"cao_conversion\"] = 0.5\n",
    "parameters[\"T_calc\"]=900\n",
    "\n",
    "calcs = CalcProblem(parameters)"
   ],
   "outputs": [
    {
     "output_type": "error",
     "ename": "NameError",
     "evalue": "name 'CalcProbelm' is not defined",
     "traceback": [
      "\u001b[0;31m---------------------------------------------------------------------------\u001b[0m",
      "\u001b[0;31mNameError\u001b[0m                                 Traceback (most recent call last)",
      "Input \u001b[0;32mIn [3]\u001b[0m, in \u001b[0;36m<cell line: 11>\u001b[0;34m()\u001b[0m\n\u001b[1;32m      8\u001b[0m parameters[\u001b[38;5;124m\"\u001b[39m\u001b[38;5;124mcao_conversion\u001b[39m\u001b[38;5;124m\"\u001b[39m] \u001b[38;5;241m=\u001b[39m \u001b[38;5;241m0.5\u001b[39m\n\u001b[1;32m      9\u001b[0m parameters[\u001b[38;5;124m\"\u001b[39m\u001b[38;5;124mT_calc\u001b[39m\u001b[38;5;124m\"\u001b[39m]\u001b[38;5;241m=\u001b[39m\u001b[38;5;241m900\u001b[39m\n\u001b[0;32m---> 11\u001b[0m calcs \u001b[38;5;241m=\u001b[39m \u001b[43mCalcProbelm\u001b[49m(parameters)\n",
      "\u001b[0;31mNameError\u001b[0m: name 'CalcProbelm' is not defined"
     ]
    }
   ],
   "metadata": {}
  },
  {
   "cell_type": "code",
   "execution_count": null,
   "source": [
    "# def objective_function(mfrac):\n",
    "#     # print(f\"about to start {mfrac}\")\n",
    "#     parameters = dict()\n",
    "#     flue_gas_composistion = dict()\n",
    "#     flue_gas_composistion[\"co2\"] = 0.1338\n",
    "#     flue_gas_composistion[\"o2\"] = 0.0384\n",
    "#     flue_gas_composistion[\"n2\"] = 0.6975\n",
    "#     parameters[\"flue_gas_composition\"] = flue_gas_composistion\n",
    "#     parameters[\"isentropic_eff_mc\"] = 0.87\n",
    "#     parameters[\"mechanical_eff\"] = 0.97\n",
    "#     parameters[\"decarbonized_rate\"] = 0.9\n",
    "#     parameters[\"cao_conversion\"] = 0.64\n",
    "#     parameters[\"calciner_eff\"] = 0.99\n",
    "#     parameters[\"convey_consumption\"] = 10e3/100\n",
    "#     parameters[\"storage_carbonator_distance\"] = 100\n",
    "#     parameters[\"T_amb\"] = 20\n",
    "#     parameters[\"p_amb\"] = 101325\n",
    "#     parameters[\"T_calc\"]=900\n",
    "#     parameters[\"deltaTmin_SSHX\"]=20\n",
    "#     parameters[\"deltaTmin_SGHX\"]=15\n",
    "#     parameters[\"T_cooling_co2\"]=20\n",
    "#     parameters[\"p_co2_storage\"]=75e5\n",
    "#     parameters[\"n_compression\"]=6\n",
    "#     parameters[\"cooling_eff\"]=0.01\n",
    "#     calcs = CalcinerSide(parameters)\n",
    "\n",
    "#     m = 57.23+29.21\n",
    "#     # print(f\"starting {mfrac}\")\n",
    "#     results=calcs.calciner(m,mfrac)\n",
    "#     We=results[\"We_calc\"]\n",
    "#     # print(f\"{mfrac}, {We}\\n\")\n",
    "#     return We"
   ],
   "outputs": [],
   "metadata": {}
  },
  {
   "cell_type": "code",
   "execution_count": null,
   "source": [
    "# mfracs=np.arange(0.1,1,0.1)\n",
    "# all_results=[]\n",
    "# for mfrac in mfracs:\n",
    "#     # print(mfrac)\n",
    "#     results=objective_function(mfrac)\n",
    "#     all_results.append(results)\n"
   ],
   "outputs": [],
   "metadata": {}
  },
  {
   "cell_type": "code",
   "execution_count": null,
   "source": [
    "# with pplot.rc.context({\"grid\": False}):\n",
    "#     fig, ax = pplot.subplots(aspect=(1, 1), axwidth=3)\n",
    "\n",
    "#     ax.plot(mfracs,np.array(all_results)/1e6,linestyle=\"-\",marker=\"o\")\n",
    "\n",
    "#     ax.format(xlabel=\"CaCO3 fraction\",ylabel=\"We (MW)\")\n",
    "#     # ax.set_ylim([38,46.5])\n",
    "\n",
    "#     # fig.savefig(\"hot_water_Tw=80.jpg\",bbox_inches='tight')"
   ],
   "outputs": [],
   "metadata": {}
  },
  {
   "cell_type": "code",
   "execution_count": null,
   "source": [
    "# def callbackF(x):\n",
    "#     print(f\"{x}, {objective_function(x)}\\n\")\n",
    "m = 57.23+29.21\n",
    "res = minimize_scalar(calcs.opt,args=(m,),method='bounded',bounds=(0, 1),tol=1e-5)\n",
    "res"
   ],
   "outputs": [
    {
     "output_type": "stream",
     "name": "stderr",
     "text": [
      "/home/anoldfriend/Workspace/MyRepo/thermodynamics/CaL/.venv/lib/python3.8/site-packages/scipy/optimize/_minimize.py:852: RuntimeWarning: Method 'bounded' does not support relative tolerance in x; defaulting to absolute tolerance.\n",
      "  warn(\"Method 'bounded' does not support relative tolerance in x; \"\n"
     ]
    },
    {
     "output_type": "execute_result",
     "data": {
      "text/plain": [
       "     fun: 102156314.42876709\n",
       " message: 'Solution found.'\n",
       "    nfev: 26\n",
       "     nit: 26\n",
       "  status: 0\n",
       " success: True\n",
       "       x: 0.6656747224466182"
      ]
     },
     "metadata": {},
     "execution_count": 6
    }
   ],
   "metadata": {}
  },
  {
   "cell_type": "code",
   "execution_count": null,
   "source": [
    "res.x"
   ],
   "outputs": [
    {
     "output_type": "execute_result",
     "data": {
      "text/plain": [
       "0.6656747224466182"
      ]
     },
     "metadata": {},
     "execution_count": 7
    }
   ],
   "metadata": {}
  }
 ],
 "metadata": {
  "orig_nbformat": 4,
  "language_info": {
   "name": "python",
   "version": "3.8.5",
   "mimetype": "text/x-python",
   "codemirror_mode": {
    "name": "ipython",
    "version": 3
   },
   "pygments_lexer": "ipython3",
   "nbconvert_exporter": "python",
   "file_extension": ".py"
  },
  "kernelspec": {
   "name": "python3",
   "display_name": "Python 3.8.5 64-bit ('.venv')"
  },
  "interpreter": {
   "hash": "83a1c713f43b468b4af359c25f1acba2bda9c186b92e3b5230d8ac3ff52052d6"
  }
 },
 "nbformat": 4,
 "nbformat_minor": 2
}