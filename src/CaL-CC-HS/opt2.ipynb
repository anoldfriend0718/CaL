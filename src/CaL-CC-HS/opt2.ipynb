{
 "cells": [
  {
   "cell_type": "code",
   "execution_count": 1,
   "metadata": {},
   "outputs": [],
   "source": [
    "import os\n",
    "import sys\n",
    "# CaLRepo = os.environ.get(\"CaLRepo\")\n",
    "CaLRepo ='/home/anoldfriend/Workspace/MyRepo/thermodynamics/CaL'\n",
    "# print(CaLRepo)\n",
    "sys.path.append(f\"{CaLRepo}/utilities/\")\n",
    "\n",
    "import numpy as np\n",
    "import pandas as pd\n",
    "import proplot as pplot\n",
    "from scipy.optimize import minimize,minimize_scalar\n",
    "from pyCaLProblem import CalcProblem"
   ]
  },
  {
   "cell_type": "code",
   "execution_count": 4,
   "metadata": {},
   "outputs": [],
   "source": [
    "parameters = dict()\n",
    "flue_gas_composistion = dict()\n",
    "flue_gas_composistion[\"co2\"] = 0.1338\n",
    "flue_gas_composistion[\"o2\"] = 0.0384\n",
    "flue_gas_composistion[\"n2\"] = 0.6975\n",
    "parameters[\"flue_gas_composition\"] = flue_gas_composistion\n",
    "parameters[\"decarbonized_rate\"] = 0.9\n",
    "parameters[\"cao_conversion\"] = 0.3\n",
    "parameters[\"T_calc\"]=900\n",
    "parameters[\"calciner_capacity_factor\"]=1\n",
    "parameters[\"storage_carbonator_distance\"]=100\n",
    "parameters[\"calciner_thermal_loss\"]=0.06\n",
    "\n",
    "\n",
    "calcs = CalcProblem(parameters)"
   ]
  },
  {
   "cell_type": "code",
   "execution_count": 8,
   "metadata": {},
   "outputs": [
    {
     "data": {
      "text/plain": [
       "     fun: 92704889.77805246\n",
       " message: 'Solution found.'\n",
       "    nfev: 25\n",
       "     nit: 25\n",
       "  status: 0\n",
       " success: True\n",
       "       x: 0.7440984641778117"
      ]
     },
     "execution_count": 8,
     "metadata": {},
     "output_type": "execute_result"
    }
   ],
   "source": [
    "# def callbackF(x):\n",
    "#     print(f\"{x}, {objective_function(x)}\\n\")\n",
    "m = 57.23+29.21\n",
    "res = minimize_scalar(calcs.opt,args=(m,10,),method='bounded',bounds=(0, 1),tol=1e-5)\n",
    "res"
   ]
  },
  {
   "cell_type": "code",
   "execution_count": 9,
   "metadata": {},
   "outputs": [
    {
     "data": {
      "text/plain": [
       "0.7440984641778117"
      ]
     },
     "execution_count": 9,
     "metadata": {},
     "output_type": "execute_result"
    }
   ],
   "source": [
    "res.x"
   ]
  }
 ],
 "metadata": {
  "kernelspec": {
   "display_name": "Python 3.8.5 ('.venv': venv)",
   "language": "python",
   "name": "python3"
  },
  "language_info": {
   "codemirror_mode": {
    "name": "ipython",
    "version": 3
   },
   "file_extension": ".py",
   "mimetype": "text/x-python",
   "name": "python",
   "nbconvert_exporter": "python",
   "pygments_lexer": "ipython3",
   "version": "3.8.5"
  },
  "orig_nbformat": 4,
  "vscode": {
   "interpreter": {
    "hash": "6181d7041c97ffe8196b6d16f3cb4a610f36b9ef5695248f9497c5a40cbcef1d"
   }
  }
 },
 "nbformat": 4,
 "nbformat_minor": 2
}
