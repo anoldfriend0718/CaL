{
 "cells": [
  {
   "cell_type": "code",
   "execution_count": 1,
   "source": [
    "import json "
   ],
   "outputs": [],
   "metadata": {}
  },
  {
   "cell_type": "code",
   "execution_count": 26,
   "source": [
    "with open(\"./base.json\",\"r\") as fp:\n",
    "    results=json.load(fp)\n",
    "energy_flow={}\n",
    "energy_flow[\"calciner input electricity\"]=results[\"plant\"][\"calc\"][\"We_calc\"]-results[\"plant\"][\"calc\"][\"calc_auxiliary_power\"]\n",
    "energy_flow[\"calciner heat loss\"]=-(results[\"plant\"][\"calc\"][\"We_calc\"]-results[\"plant\"][\"calc\"][\"Qe_calc\"])\n",
    "energy_flow[\"CCT power\"]=results[\"plant\"][\"calc\"][\"CO2_compression_train\"][\"compressor_power\"]\n",
    "energy_flow[\"CCT cooling\"]=results[\"plant\"][\"calc\"][\"CO2_compression_train\"][\"cooling_power\"]\n",
    "energy_flow[\"calciner side converying power\"]=results[\"plant\"][\"calc\"][\"conveying_power\"]\n",
    "energy_flow[\"chemical energy storage\"]=results[\"plant\"][\"calc\"][\"Qe_calc\"]\n",
    "\n",
    "energy_flow[\"carbonator heat loss\"]=-(energy_flow[\"chemical energy storage\"]-results[\"plant\"][\"carb\"][\"Q_hot_water\"])\n",
    "energy_flow[\"supply heat\"]=results[\"plant\"][\"carb\"][\"Q_hot_water\"]\n",
    "\n",
    "energy_flow[\"carbonator auxiliary electricity\"]=results[\"plant\"][\"carb\"][\"carb_auxiliary_power\"]*(-1)\n",
    "energy_flow[\"gas fan power\"]=results[\"plant\"][\"carb\"][\"flue_gas_fan_power\"]\n",
    "energy_flow[\"carbonator side converying power\"]=results[\"plant\"][\"carb\"][\"conveying_power\"]\n",
    "energy_flow[\"water pump power\"]=results[\"plant\"][\"carb\"][\"water_pump_power\"]\n",
    "\n",
    "\n",
    "\n",
    "energy_flow"
   ],
   "outputs": [
    {
     "output_type": "execute_result",
     "data": {
      "text/plain": [
       "{'calciner input electricity': 18418161.12442728,\n",
       " 'calciner heat loss': -169920.4882444851,\n",
       " 'CCT power': -1161864.198740395,\n",
       " 'CCT cooling': -17634.63442675613,\n",
       " 'calciner side converying power': -246613.46681165835,\n",
       " 'chemical energy storage': 16822128.336203985,\n",
       " 'carbonator heat loss': -1314377.899084935,\n",
       " 'supply heat': 15507750.43711905,\n",
       " 'carbonator auxiliary electricity': 643937.5348717304,\n",
       " 'gas fan power': -376333.67325280205,\n",
       " 'carbonator side converying power': -246613.46681165835,\n",
       " 'water pump power': -20990.39480726988}"
      ]
     },
     "metadata": {},
     "execution_count": 26
    }
   ],
   "metadata": {}
  },
  {
   "cell_type": "code",
   "execution_count": 40,
   "source": [
    "total_power=energy_flow[\"calciner input electricity\"]+energy_flow[\"carbonator auxiliary electricity\"]\n",
    "energy_flow_ratios={}\n",
    "energy_flow_ratios[\"heat loss\"]=(-energy_flow[\"calciner heat loss\"]-energy_flow[\"carbonator heat loss\"])/total_power*100\n",
    "energy_flow_ratios[\"CO2 compression\"]=(-energy_flow[\"CCT power\"]-energy_flow[\"CCT cooling\"])/total_power*100\n",
    "energy_flow_ratios[\"supply heat\"]=energy_flow[\"supply heat\"]/total_power*100\n",
    "energy_flow_ratios[\"auxiliary\"]=(-energy_flow[\"calciner side converying power\"]+energy_flow[\"carbonator auxiliary electricity\"])/total_power*100\n",
    "\n",
    "energy_flow_ratios[\"calciner input electricity\"]=energy_flow[\"calciner input electricity\"]/total_power*100\n",
    "energy_flow_ratios[\"carbonator auxiliary electricity\"]=energy_flow[\"carbonator auxiliary electricity\"]/total_power*100\n",
    "\n",
    "energy_flow_ratios[\"chemical energy storage\"]=energy_flow[\"chemical energy storage\"]/total_power*100\n",
    "\n",
    "energy_flow_ratios[\"calciner heat loss\"]=-energy_flow[\"calciner heat loss\"]/total_power*100\n",
    "energy_flow_ratios[\"carbonator heat loss\"]=-energy_flow[\"carbonator heat loss\"]/total_power*100\n",
    "\n",
    "energy_flow_ratios[\"CCT power\"]=-energy_flow[\"CCT power\"]/total_power*100\n",
    "energy_flow_ratios[\"CCT cooling\"]=-energy_flow[\"CCT cooling\"]/total_power*100\n",
    "\n",
    "energy_flow_ratios[\"calciner side converying power\"]=-energy_flow[\"calciner side converying power\"]/total_power*100\n",
    "energy_flow_ratios[\"carbonator side converying power\"]=-energy_flow[\"carbonator side converying power\"]/total_power*100\n",
    "energy_flow_ratios[\"gas fan power\"]=-energy_flow[\"gas fan power\"]/total_power*100\n",
    "energy_flow_ratios[\"water pump power\"]=-energy_flow[\"water pump power\"]/total_power*100\n",
    "\n",
    "energy_flow_ratios\n"
   ],
   "outputs": [
    {
     "output_type": "execute_result",
     "data": {
      "text/plain": [
       "{'heat loss': 7.786647282959784,\n",
       " 'CO2 compression': 6.187665137236919,\n",
       " 'supply heat': 81.3538462594933,\n",
       " 'auxiliary': 4.671841320309995,\n",
       " 'calciner input electricity': 96.62189590778557,\n",
       " 'carbonator auxiliary electricity': 3.378104092214422,\n",
       " 'chemical energy storage': 88.24908860702854,\n",
       " 'calciner heat loss': 0.8914049354245329,\n",
       " 'carbonator heat loss': 6.895242347535252,\n",
       " 'CCT power': 6.095153631856825,\n",
       " 'CCT cooling': 0.09251150538009346,\n",
       " 'calciner side converying power': 1.2937372280955726,\n",
       " 'carbonator side converying power': 1.2937372280955726,\n",
       " 'gas fan power': 1.9742509992162705,\n",
       " 'water pump power': 0.11011586490257824}"
      ]
     },
     "metadata": {},
     "execution_count": 40
    }
   ],
   "metadata": {}
  },
  {
   "cell_type": "code",
   "execution_count": 49,
   "source": [
    "0.11*0.4"
   ],
   "outputs": [
    {
     "output_type": "execute_result",
     "data": {
      "text/plain": [
       "0.044000000000000004"
      ]
     },
     "metadata": {},
     "execution_count": 49
    }
   ],
   "metadata": {}
  }
 ],
 "metadata": {
  "orig_nbformat": 4,
  "language_info": {
   "name": "python",
   "version": "3.8.5",
   "mimetype": "text/x-python",
   "codemirror_mode": {
    "name": "ipython",
    "version": 3
   },
   "pygments_lexer": "ipython3",
   "nbconvert_exporter": "python",
   "file_extension": ".py"
  },
  "kernelspec": {
   "name": "python3",
   "display_name": "Python 3.8.5 64-bit ('.venv')"
  },
  "interpreter": {
   "hash": "83a1c713f43b468b4af359c25f1acba2bda9c186b92e3b5230d8ac3ff52052d6"
  }
 },
 "nbformat": 4,
 "nbformat_minor": 2
}