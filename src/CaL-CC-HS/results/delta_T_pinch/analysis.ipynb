{
 "cells": [
  {
   "cell_type": "code",
   "execution_count": 1,
   "source": [
    "import json \n",
    "import pandas as pd\n",
    "import numpy as np\n",
    "import proplot as pplot\n",
    "import matplotlib.pyplot as plt"
   ],
   "outputs": [],
   "metadata": {}
  },
  {
   "cell_type": "code",
   "execution_count": 13,
   "source": [
    "deltaTs=[10,15,20,30]\n",
    "results=[]\n",
    "for T in deltaTs:\n",
    "    file_name=f\"{T}.json\"\n",
    "    result={}\n",
    "    with open(file_name,\"r\") as fp:\n",
    "        text=json.load(fp)\n",
    "        result[\"delta T\"]=T\n",
    "        result[\"cold util\"]=text[\"plant\"][\"carb\"][\"cold_utility\"]\n",
    "        result[\"energy efficiency\"]=text[\"metrics\"][\"energy\"][\"heat_storage_eff\"]\n",
    "        result[\"carbonator side HEN cost\"]=text[\"metrics\"][\"economic\"][\"construction\"][\"equipment\"][\"CHENCarb\"]\n",
    "        result[\"calciner cost\"]=text[\"metrics\"][\"economic\"][\"construction\"][\"equipment\"][\"Ccalc\"]\n",
    "        result[\"total\"]=text[\"metrics\"][\"economic\"][\"construction\"][\"equipment\"][\"total\"]\n",
    "    results.append(result)\n",
    "df=pd.DataFrame(results)\n",
    "df.head(10)"
   ],
   "outputs": [
    {
     "output_type": "execute_result",
     "data": {
      "text/plain": [
       "   delta T     cold util  energy efficiency  carbonator side HEN cost  \\\n",
       "0       10  8.207446e+05           0.821865                  1.400169   \n",
       "1       15  9.880499e+05           0.813538                  1.286911   \n",
       "2       20  1.157661e+06           0.805212                  1.210283   \n",
       "3       30  1.509679e+06           0.788558                  1.109957   \n",
       "\n",
       "   calciner cost      total  \n",
       "0      25.424898  48.339578  \n",
       "1      25.549611  48.506240  \n",
       "2      25.663908  48.686358  \n",
       "3      25.922937  49.169428  "
      ],
      "text/html": [
       "<div>\n",
       "<style scoped>\n",
       "    .dataframe tbody tr th:only-of-type {\n",
       "        vertical-align: middle;\n",
       "    }\n",
       "\n",
       "    .dataframe tbody tr th {\n",
       "        vertical-align: top;\n",
       "    }\n",
       "\n",
       "    .dataframe thead th {\n",
       "        text-align: right;\n",
       "    }\n",
       "</style>\n",
       "<table border=\"1\" class=\"dataframe\">\n",
       "  <thead>\n",
       "    <tr style=\"text-align: right;\">\n",
       "      <th></th>\n",
       "      <th>delta T</th>\n",
       "      <th>cold util</th>\n",
       "      <th>energy efficiency</th>\n",
       "      <th>carbonator side HEN cost</th>\n",
       "      <th>calciner cost</th>\n",
       "      <th>total</th>\n",
       "    </tr>\n",
       "  </thead>\n",
       "  <tbody>\n",
       "    <tr>\n",
       "      <th>0</th>\n",
       "      <td>10</td>\n",
       "      <td>8.207446e+05</td>\n",
       "      <td>0.821865</td>\n",
       "      <td>1.400169</td>\n",
       "      <td>25.424898</td>\n",
       "      <td>48.339578</td>\n",
       "    </tr>\n",
       "    <tr>\n",
       "      <th>1</th>\n",
       "      <td>15</td>\n",
       "      <td>9.880499e+05</td>\n",
       "      <td>0.813538</td>\n",
       "      <td>1.286911</td>\n",
       "      <td>25.549611</td>\n",
       "      <td>48.506240</td>\n",
       "    </tr>\n",
       "    <tr>\n",
       "      <th>2</th>\n",
       "      <td>20</td>\n",
       "      <td>1.157661e+06</td>\n",
       "      <td>0.805212</td>\n",
       "      <td>1.210283</td>\n",
       "      <td>25.663908</td>\n",
       "      <td>48.686358</td>\n",
       "    </tr>\n",
       "    <tr>\n",
       "      <th>3</th>\n",
       "      <td>30</td>\n",
       "      <td>1.509679e+06</td>\n",
       "      <td>0.788558</td>\n",
       "      <td>1.109957</td>\n",
       "      <td>25.922937</td>\n",
       "      <td>49.169428</td>\n",
       "    </tr>\n",
       "  </tbody>\n",
       "</table>\n",
       "</div>"
      ]
     },
     "metadata": {},
     "execution_count": 13
    }
   ],
   "metadata": {}
  },
  {
   "cell_type": "code",
   "execution_count": 18,
   "source": [
    "c1 = pplot.scale_luminance('cerulean', 0.5)\n",
    "c2 = pplot.scale_luminance('red', 0.5)\n",
    "\n",
    "with pplot.rc.context({'lines.linewidth': 2,\"axes.labelsize\":12,\"tick.labelsize\":11,\n",
    "        \"lines.marker\":\"o\",\"lines.markersize\":4,\"legend.fontsize\":14,\"grid\":False}):\n",
    "        fig, axs = pplot.subplots(refaspect=(4, 3), axwidth=4,ncols=2, nrows=1, share=False)\n",
    "        axs[0].plot(df['delta T'], df['cold util']/1e6,label=\"cold utility\",color=c1)\n",
    "        axs[0].plot([], [],linestyle=\"--\",label=\"energy efficiency\",color=c2)\n",
    "        axs[0].format(xlabel=\"pinch temperature ($^{o}$C)\",ylabel=\"cold utility (MW)\")\n",
    "        axs[0].legend(loc=\"uc\", ncols=1, fancybox=True)\n",
    "        axs_r=axs[0].twinx()\n",
    "        axs_r.plot(df['delta T'], df['energy efficiency']*100,linestyle=\"--\",label=\"energy efficiency\",color=c2)\n",
    "        axs_r.format(ylabel=\"energy efficiency (%)\",ycolor=c2)\n",
    "\n",
    "        \n",
    "\n",
    "        axs[1].plot(df['delta T'], df['carbonator side HEN cost'],label=\"HEN\",color=c1)\n",
    "        axs[1].plot([], [],linestyle=\"--\",label=\"calciner\",color=c2)\n",
    "        axs[1].format(xlabel=\"pinch temperature ($^{o}$C)\",ylabel=\"capital cost (million RMB)\",ylim=[1.0,1.6])\n",
    "        axs[1].legend(loc=\"ul\", ncols=1, fancybox=True)\n",
    "        axs_r=axs[1].twinx()\n",
    "        axs_r.plot(df['delta T'], df['calciner cost'],linestyle=\"--\",label=\"calciner\",color=c2)\n",
    "        axs_r.format(ylabel=\"capital cost (million RMB)\",ylim=[25.4,26],ycolor=c2)\n",
    "\n",
    "        fig.savefig(\"./analysis.jpg\", bbox_inches='tight')\n",
    "        "
   ],
   "outputs": [],
   "metadata": {}
  }
 ],
 "metadata": {
  "orig_nbformat": 4,
  "language_info": {
   "name": "python",
   "version": "3.8.5",
   "mimetype": "text/x-python",
   "codemirror_mode": {
    "name": "ipython",
    "version": 3
   },
   "pygments_lexer": "ipython3",
   "nbconvert_exporter": "python",
   "file_extension": ".py"
  },
  "kernelspec": {
   "name": "python3",
   "display_name": "Python 3.8.5 64-bit ('.venv')"
  },
  "interpreter": {
   "hash": "83a1c713f43b468b4af359c25f1acba2bda9c186b92e3b5230d8ac3ff52052d6"
  }
 },
 "nbformat": 4,
 "nbformat_minor": 2
}