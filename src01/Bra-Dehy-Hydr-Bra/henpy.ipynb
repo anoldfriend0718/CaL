{
 "cells": [
  {
   "cell_type": "code",
   "execution_count": 2,
   "metadata": {},
   "outputs": [],
   "source": [
    "import os\n",
    "import sys\n",
    "# CaLRepo = os.environ.get(\"CaLRepo\")\n",
    "CaLRepo ='/home/zyq0416/workspace/CaL'\n",
    "# print(CaLRepo)\n",
    "sys.path.append(f\"{CaLRepo}/utilities/\")\n",
    "\n",
    "\n",
    "from pyPinch import PyPinch\n",
    "import pandas as pd\n",
    "import CoolProp.CoolProp as CP\n",
    "from Cp0massWrapper import Cp0mass_Wrapper\n",
    "from pyHENPinch import Hen_pinch_analyzer\n",
    "from pyDehydrator import Dehydrator\n"
   ]
  },
  {
   "cell_type": "code",
   "execution_count": 4,
   "metadata": {},
   "outputs": [
    {
     "name": "stdout",
     "output_type": "stream",
     "text": [
      "{'BH': {'initialvalue': {'isentropic_eff_mc': 0.88, 'mechanical_eff': 0.98, 'min_temperature_exchange': 20, 'industrial_waste_heat_t': 300, 't_reaction': 525, 'p_bray_H': 20000000.0, 'p_bray_M': 13000000.0, 'p_bray_L': 7500000.0}, 'primary_compressor': {'t_compressor_in': 525, 'p_compressor_in': 7500000.0, 'h_compressor_in': 1015148.1554031209, 's_compressor_in': 2905.1037832123293, 't_compressor_out': 611.0309565856585, 'p_compressor_out': 13000000.0, 'h_compressor_out': 1115346.2907591742, 's_compressor_out': 2918.7780366279017, 'power_compressor': 102242.99526127872, 'e_lost_compressor': 2044.859905225576}, 'primary_h_exchanger': {'t_h_exchanger_out': 545, 'p_h_exchanger_out': 13000000.0, 'h_h_exchanger_out': 1034336.3501360257, 's_h_exchanger_out': 2823.5627686024495, 'hot_out_h_exchanger': 81009.92988873937}, 'secondary_compressor': {'t_compressor_in': 545, 'p_compressor_in': 13000000.0, 'h_compressor_in': 1034336.3501360257, 's_compressor_in': 2823.5627686024495, 't_compressor_out': 614.103062160295, 'p_compressor_out': 20000000.0, 'h_compressor_out': 1115035.0090003207, 's_compressor_out': 2834.5250284000017, 'power_compressor': 82345.57026968875, 'e_lost_compressor': 1646.9114053937765}, 'secondary_h_exchanger': {'t_h_exchanger_out': 545, 'p_h_exchanger_out': 20000000.0, 'h_h_exchanger_out': 1028930.5066799285, 's_h_exchanger_out': 2733.4979290201845, 'hot_out_h_exchanger': 86104.50070591865}, 'mian_h_exchanger': {'t_h_exchangerm_hh_out': 305.0885225201347, 'p_h_exchangerm_hh_out': 20000000.0, 'h_h_exchangerm_hh_out': 733785.0186534129, 's_h_exchangerm_hh_out': 2306.5560602427636, 't_h_exchangerm_ll_in': 280, 'p_h_exchangerm_ll_in': 7500000.0, 'h_h_exchangerm_ll_in': 731354.4169160867, 's_h_exchangerm_ll_in': 2481.181821854729, 'h_lost_exchangerm': 11351.74953948136, 'main_exchanger': 1}, 'turbine': {'t_turbine_out': 206.89146210830825, 'p_turbine_out': 7500000.0, 'h_turbine_out': 649245.7362371337, 's_turbine_out': 2321.9749089798033, 'power_turbine': 82848.49657123322, 'e_lost_turbine': 1690.7856443109195}, 'heat_recovery': {'t_flue_gas_in': 300, 't_flue_gas_out': 226.89146210830825, 'n': 1.1098219873769608, 't_heat_recovery_out': 280, 'p_heat_recovery_out': 7500000.0, 'h_heat_recovery_out': 731354.4169160867, 's_heat_recovery_out': 2481.181821854729, 'hot_heat_recovery': 85529.87625930388, 'h_lost_heat_recovery': 3421.19505037216}, 'evaluation_indicators': {'h_lost': 14772.94458985352, 'e_lost': 5382.556954930272, 'lost_benchmark': 20155.50154478379, 'power_cost_benchmark': 101740.06895973424, 'hot_cost_benchmark': 85529.87625930388, 'hot_output_benchmark': 167114.430594658, 'cop': 1.6425625842734295, 'mass_flow': 9.828969158609189, 'power_cost': 1000000.0, 'hot_cost': 840670.5158923581, 'hot_output': 1642562.5842734294, 'lost': 198107.80305997975, 'flue_gas_mass_flow': 10.908406085474503}, 'energy_eff': 0.8923718667146218, 'cop': 1.6425625842734295}, 'initialvalue': {'cao_conversion': 1, 'dehydrator_eff': 0.95, 'P_amb': 101325, 'T_amb': 20, 'T_dehy': 525, 'delta_H_Tref': 104000.0, 'Store_electrical_power': 1000000.0, 'BraytonHeatPump_cop': 1.6425625842734295, 'Q_dehydrator': 1560434.455059758}, 'ht_HEN': 451.4114257068262, 'dehydrator': {'is_succeed': 1, 'delta_H_Tr': 103464.59999555098, 'heat_caoh2': 8431.337999041665, 'mole_dehydrator_reactions': 13.945407519039392, 'mole_Dehydration_in': 13.945407519039392, 'mass_caoh2_in': 1.031960156408915, 'm_camix_in': 1.031960156408915, 'mole_cao_o': 13.945407519039392, 'mass_cao_o': 0.7809428210662059, 'mole_caoh2_o': 0.0, 'mass_caoh2_o': 0.0, 'mole_steam_out': 13.945407519039392, 'mass_steam_out': 0.25101733534270904, 'm_steam_out': 0.25101733534270904, 'm_camix_out': 0.7809428210662059}, 'pc_HEN': 5.479804098634856, 'steam_blower': {'p_flue_gas_fan_out': 102348.48484848485, 'T_flue_gas_fan_out': 526.9603507583818, 'flue_gas_fan_power': -1078.01487815481}, 'conveying_power': -18129.02977475121, 'pinch_analysis_text': 'Tmin 20 \\n       CP    TSUPPLY    TTARGET\\n 0.695181 231.891462  20.000000\\n 0.499725 226.891462 105.000000\\n11.283644 226.891462 160.000000\\n 1.051242  95.000000  20.000000\\n 1.354515  20.000000 206.891462\\n12.576015  60.000000  85.000000', 'total_HEN_area': 10.745000000000001, 'hot_utility': 0.0, 'cold_utility': 474290.0594891701}\n"
     ]
    }
   ],
   "source": [
    "parameters = dict()\n",
    "flue_gas_composistion = dict()\n",
    "flue_gas_composistion[\"co2\"] = 0.1338\n",
    "flue_gas_composistion[\"o2\"] = 0.0384\n",
    "flue_gas_composistion[\"n2\"] = 0.6975\n",
    "parameters[\"flue_gas_composition\"] = flue_gas_composistion\n",
    "parameters[\"cao_conversion\"] = 1  #氧化钙转化率\n",
    "parameters[\"dehydrator_eff\"] = 0.95   #脱水器效率\n",
    "parameters[\"T_amb\"] = 20   #环境温度\n",
    "parameters[\"P_amb\"] = 101325   #环境压力\n",
    "parameters[\"T_dehy\"] = 525     #脱水器温度\n",
    "parameters[\"deltaTmin_SSHX\"] = 25   #固-固换热器最小温差\n",
    "parameters[\"deltaTmin_SGHX\"] = 20   #固-气换热器最小温差\n",
    "parameters[\"Store_electrical_power\"] = 1e6\n",
    "parameters[\"BraytonHeatPump_cop\"]= 1.64256\n",
    "parameters[\"steam_pressure_loss_ratio\"] = 0.01\n",
    "parameters[\"isentropic_eff_mc\"] = 0.88\n",
    "parameters[\"t_isentropic_eff_mc\"] = 0.92\n",
    "parameters[\"mechanical_eff\"] = 0.98   #机械效率\n",
    "parameters[\"min_temperature_exchange\"] = 20 \n",
    "parameters[\"industrial_waste_heat_t\"] =300 #℃\n",
    "parameters[\"heat_transfer_loss_eff\"] = 0.96\n",
    "parameters[\"t_reaction\"] = 525\n",
    "parameters[\"p_bray_H\"] = 20e6\n",
    "parameters[\"p_bray_M\"] = 13e6\n",
    "parameters[\"p_bray_L\"] = 7.5e6\n",
    "parameters[\"p_amb\"] = 101325\n",
    "\n",
    "parameters[\"mcmechanical_eff\"] = 0.98\n",
    "parameters[\"convey_consumption\"] = 10e3/100\n",
    "parameters[\"storage_dehydrator_distance\"] = 100\n",
    "deh = Dehydrator(parameters)\n",
    "ma = 3\n",
    "res = deh.solve(ma)\n",
    "\n",
    "print(res)"
   ]
  }
 ],
 "metadata": {
  "kernelspec": {
   "display_name": ".venv",
   "language": "python",
   "name": "python3"
  },
  "language_info": {
   "codemirror_mode": {
    "name": "ipython",
    "version": 3
   },
   "file_extension": ".py",
   "mimetype": "text/x-python",
   "name": "python",
   "nbconvert_exporter": "python",
   "pygments_lexer": "ipython3",
   "version": "3.10.6"
  },
  "orig_nbformat": 4
 },
 "nbformat": 4,
 "nbformat_minor": 2
}
